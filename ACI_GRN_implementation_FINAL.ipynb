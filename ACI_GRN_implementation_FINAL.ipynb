{
 "metadata": {
  "language_info": {
   "codemirror_mode": {
    "name": "ipython",
    "version": 3
   },
   "file_extension": ".py",
   "mimetype": "text/x-python",
   "name": "python",
   "nbconvert_exporter": "python",
   "pygments_lexer": "ipython3",
   "version": "3.8.8"
  },
  "orig_nbformat": 2,
  "kernelspec": {
   "name": "python388jvsc74a57bd0960d47916c68688906e470c36d0bba80380ebfc6766da46df1c6fb8f3c3ce95d",
   "display_name": "Python 3.8.8 64-bit ('aci': conda)"
  }
 },
 "nbformat": 4,
 "nbformat_minor": 2,
 "cells": [
  {
   "source": [
    "# Inference of Gene Regulatory Network with multi-objective optimisation (OMOPSO)\n",
    "\n",
    "The problem model is adapted from Khan et. al. doi: 10.1109/TCBB.2019.2892450\n",
    "\n",
    "The optimization algorithm from Hurtado et. al. doi: 10.1007/s10489-020-01891-1\n",
    "\n",
    "The python implementation of the jMetal framework from Benitez-Hidalgo et. al. is used: doi: 10.1016/j.swevo.2019.100598 - https://github.com/jMetal/jMetalPy\n",
    "\n",
    "Experimental Gene Expression data can be downloaded here: http://wws.weizmann.ac.il/mcb/UriAlon/sites/mcb.UriAlon/files/uploads/DownloadableData/sosdata.zip\n",
    "\n"
   ],
   "cell_type": "markdown",
   "metadata": {}
  },
  {
   "cell_type": "code",
   "execution_count": 15,
   "metadata": {},
   "outputs": [],
   "source": [
    "#import libraries\n",
    "import numpy as np\n",
    "import pandas as pd\n",
    "import csv\n",
    "\n",
    "from jmetal.algorithm.multiobjective.omopso import OMOPSO\n",
    "from jmetal.operator import UniformMutation\n",
    "from jmetal.operator.mutation import NonUniformMutation\n",
    "from jmetal.util.archive import CrowdingDistanceArchive\n",
    "from jmetal.util.termination_criterion import StoppingByEvaluations\n",
    "from jmetal.core.problem import FloatProblem\n",
    "from jmetal.core.solution import FloatSolution\n",
    "from jmetal.lab.visualization.plotting import Plot\n",
    "from jmetal.util.solution import get_non_dominated_solutions\n",
    "\n",
    "import logging\n",
    "\n",
    "logging.basicConfig(filename='AC_GRN_1.log', level=logging.DEBUG)"
   ]
  },
  {
   "cell_type": "code",
   "execution_count": 2,
   "metadata": {},
   "outputs": [
    {
     "output_type": "execute_result",
     "data": {
      "text/plain": [
       "\"\\nlogging.debug('This message should go to the log file')\\nlogging.info('So should this')\\nlogging.warning('And this, too')\\nlogging.error('And non-ASCII stuff, too, like Øresund and Malmö')\\n\""
      ]
     },
     "metadata": {},
     "execution_count": 2
    }
   ],
   "source": [
    "#test logging\n",
    "'''\n",
    "logging.debug('This message should go to the log file')\n",
    "logging.info('So should this')\n",
    "logging.warning('And this, too')\n",
    "logging.error('And non-ASCII stuff, too, like Øresund and Malmö')\n",
    "'''"
   ]
  },
  {
   "source": [
    "## Load and prepare experimental gene expression data"
   ],
   "cell_type": "markdown",
   "metadata": {}
  },
  {
   "cell_type": "code",
   "execution_count": 3,
   "metadata": {},
   "outputs": [],
   "source": [
    "filepath = \"./Data/SOSData/\"\n",
    "filenameActual = \"SOSTopology.txt\"\n",
    "\n",
    "df_actualExpression = pd.read_csv(filepath + \"Exp1.txt\", sep='\\t')\n",
    "\n",
    "# omit first 2 columns of SOS dataset: 1.col = gene name; 2.col = first timepoint with only 0 values\n",
    "df = df_actualExpression.iloc[:, 2:]\n",
    "# normalize expression data to range (0,1)\n",
    "norm_exp = df.apply(lambda x: (x-min(x))/(max(x)-min(x)), axis =1)\n",
    "'''\n",
    "NOTE on normalization:\n",
    "Normalizing expression levels to a range of (0,1) flips the meaning of kinetic orders around:\n",
    "num in range (0,1) to the power of a negative exponent => 1 < expression level < inf\n",
    "num in range (0,1) to the power of a positive exponent => 0 < expression level < 1\n",
    "'''\n",
    "\n",
    "\n",
    "#Array for Problem Model: indexed by by time points (e.g. array[0] = vector of gene expression for timepoint 0 for all genes)\n",
    "#convert df to np.array (no headers included) and convert all 0s to 1s (necessary for the problem model, otherwise there would be 0s in the sumprod setting the whole term to zero and throwing an error: NaN value)\n",
    "actualExpressionTimeInd = np.transpose(norm_exp.to_numpy())\n",
    "#actualExpressionTimeInd[actualExpressionTimeInd == 0] = 1\n",
    "\n",
    "#Array for Fitness Caluculation: indexed by gene (e.g. array[0] = vector of gene expression of gene 0 for all timepoints) \n",
    "#convert df to np.array (no headers included)\n",
    "actualExpressionGeneInd = norm_exp.to_numpy()\n",
    "\n",
    "\n",
    "'''\n",
    "#According to the author of the half-system paper, timepoints & deltas have not been normalized\n",
    "\n",
    "# normalize timepoints to range(0,1)\n",
    "def norm_array(arr):\n",
    "    norm_arr = []\n",
    "    min_arr = min(arr)\n",
    "    max_arr = max(arr)\n",
    "    for i in arr:\n",
    "        temp = (i - min_arr)/(max_arr - min_arr)\n",
    "        norm_arr.append(temp)\n",
    "    return norm_arr\n",
    "\n",
    "timepoints = norm_array(timepoints)\n",
    "'''\n",
    "# extract headers as np.array \n",
    "timepoints = np.array(df_actualExpression.columns[2:].astype(int))"
   ]
  },
  {
   "source": [
    "# Define the Problem Models"
   ],
   "cell_type": "markdown",
   "metadata": {}
  },
  {
   "source": [
    "## Half System Problem Model\n",
    "\n",
    "Using the jMetal interface\n",
    "\n",
    "Variable descriptions:\n",
    "\n",
    "Solution / Variable: List(delta/rate constant, epsilon/degradation term, (error correction term), kinteic order f11 ... f1j, REPEAT for num of genes)\n",
    "\n",
    "extra_vars = delta/rate constant, epsilon, (my)\n",
    "\n",
    "=> error correction term/my has not been used\n"
   ],
   "cell_type": "markdown",
   "metadata": {}
  },
  {
   "cell_type": "code",
   "execution_count": 77,
   "metadata": {},
   "outputs": [],
   "source": [
    "class GRNinfHS(FloatProblem):\n",
    "\n",
    "    def __init__(self, number_of_genes, extra_vars, timepoints, actualExpressionGeneInd, actualExpressionTimeInd, constr):\n",
    "        \"\"\" :param number_of_variables: Number of decision variables of the problem.\n",
    "        \"\"\"\n",
    "        super(GRNinfHS, self).__init__()\n",
    "        self.number_of_variables = (number_of_genes * number_of_genes) + extra_vars * number_of_genes\n",
    "        self.number_of_objectives = 2\n",
    "        self.number_of_constraints = 0\n",
    "\n",
    "        self.number_of_genes = number_of_genes\n",
    "        self.extra_vars = extra_vars\n",
    "\n",
    "        self.obj_directions = [self.MINIMIZE, self.MINIMIZE]\n",
    "        self.obj_labels = ['MSE', 'TR']\n",
    "\n",
    "        # create np array with lower bound for variables\n",
    "        df_lb = pd.DataFrame(np.zeros((self.number_of_genes,self.number_of_genes + self.extra_vars)))\n",
    "        df_lb[0] = 0.\n",
    "        df_lb[1] = 0.\n",
    "        df_lb[df_lb.columns[self.extra_vars:]] = -3.\n",
    "        lb = df_lb.to_numpy().ravel()\n",
    "        \n",
    "        self.lower_bound = lb #self.number_of_variables * [0.0]\n",
    "        \n",
    "        # create np array with upper bound for variables\n",
    "        df_ub = pd.DataFrame(np.zeros((self.number_of_genes,self.number_of_genes + self.extra_vars)))\n",
    "        df_ub[0] = 5.\n",
    "        df_ub[1] = 5.\n",
    "        df_ub[df_ub.columns[self.extra_vars:]] = 3.\n",
    "        ub = df_ub.to_numpy().ravel()\n",
    "        \n",
    "        self.upper_bound = ub #self.number_of_variables * [1.0]\n",
    "\n",
    "        self.timepoints = timepoints\n",
    "        self.actualExpressionGeneInd = actualExpressionGeneInd\n",
    "        self.actualExpressionTimeInd = actualExpressionTimeInd\n",
    "        self.constr = constr\n",
    "\n",
    "    #Caluclate Fitness\n",
    "    def evaluate(self, solution: FloatSolution) -> FloatSolution:\n",
    "\n",
    "        #transform solution variables from 1d list to 2d np.array. e.g. arr_solution[0] should give all variables for gene 0\n",
    "        arr_solution = np.array(solution.variables)\n",
    "        arr_solution.shape = (self.number_of_genes, -1)\n",
    "\n",
    "        MSE = 0\n",
    "        TR = 0\n",
    "\n",
    "        for gene in range(0,self.number_of_genes):\n",
    "            \n",
    "            ts_pred = self.timeSeriesPrediction(arr_solution, gene)\n",
    "            MSE = MSE + self.calculateMSE(ts_pred, gene)\n",
    "            TR = TR + self.calculateTR(arr_solution, gene)\n",
    "\n",
    "        #caluclate the mean over all genes\n",
    "        MSE = MSE/self.number_of_genes\n",
    "\n",
    "        solution.objectives[0] = MSE\n",
    "        solution.objectives[1] = TR\n",
    "\n",
    "        return solution\n",
    "\n",
    "\n",
    "\n",
    "    #calculate predicted gene expression levels for one gene at all timepoints\n",
    "    def timeSeriesPrediction(self, arr_solution, gene):\n",
    "\n",
    "        #array to store time series gene expression predictions for one gene\n",
    "        predExpression = np.empty(len(self.timepoints))\n",
    "        predExpression[0] = 0\n",
    "\n",
    "        #convert all 0s to 1s in the actual expression (necessary for the problem model, otherwise there would be 0s in the np.prod setting the whole term to zero and throwing an error: NaN value)\n",
    "        actExpr = self.actualExpressionTimeInd\n",
    "        actExpr[actExpr == 0] = 1\n",
    "\n",
    "        for t in range(1,len(timepoints)):\n",
    "            timediff = self.timepoints[t] - self.timepoints[t-1]\n",
    "            #calculate predicted gene expression for one gene at one timepoint\n",
    "            pred = timediff * (arr_solution[gene][0] * np.prod(np.power(actExpr[t-1], arr_solution[gene][self.extra_vars:]))) + (1 - timediff * arr_solution[gene][1]) * predExpression[t-1] \n",
    "            \n",
    "            # Constraining predicted solution not to have <=0 values\n",
    "            if self.constr:\n",
    "                if pred <= 0:\n",
    "                    predExpression[t] = 0\n",
    "                else:\n",
    "                    predExpression[t] = pred\n",
    "            \n",
    "            else:\n",
    "                predExpression[t] = pred\n",
    "            \n",
    "            '''\n",
    "            error correction term:\n",
    "             + arr_solution[gene][2] * (predExpression[t-1] - self.actualExpressionTimeInd[gene][t-1])\n",
    "            according to the author of the half-system paper, further research did not indicate that the error correction term provides any benefit and is omitted here as well\n",
    "            ''' \n",
    "        return predExpression\n",
    "\n",
    "\n",
    "    #calculate MSE for one gene for timeseries\n",
    "    def calculateMSE(self, predExpression, gene):\n",
    "        #version1\n",
    "        MSE = sum(np.power(self.actualExpressionGeneInd[gene] - predExpression,2))/len(predExpression)\n",
    "        \n",
    "        #version2\n",
    "        #MSE = sum(np.power((predExpression - self.actualExpressionGeneInd[gene])/self.actualExpressionGeneInd[gene], 2))\n",
    "       \n",
    "        return MSE\n",
    "\n",
    "\n",
    "    #calculate TR for kinteic orders (not extra_vars: rate constant and degradation term) for one gene for timeseries\n",
    "    def calculateTR(self, arr_solution, gene, cardinality = 4):\n",
    "        sortedSol = np.sort(np.abs(arr_solution[gene][self.extra_vars:]))\n",
    "        extract = sortedSol[:(self.number_of_genes-cardinality)]\n",
    "        return sum(extract)\n",
    "\n",
    "    def get_name(self):\n",
    "        return 'GRNinfHS'"
   ]
  },
  {
   "source": [
    "## S-System Problem Model\n",
    "\n",
    "Using the jMetal interface\n",
    "\n",
    "Variable descriptions:\n",
    "\n",
    "Solution / Variable: List(alpha/rate constant production, alpha/rate constant degradation, kinteic order g11 ... g1j for production, kinteic order h11 ... h1j for degradation, REPEAT for num of genes)\n",
    "\n",
    "extra_vars = delta/rate constant, epsilon, (my)"
   ],
   "cell_type": "markdown",
   "metadata": {}
  },
  {
   "cell_type": "code",
   "execution_count": 70,
   "metadata": {},
   "outputs": [],
   "source": [
    "class GRNinfSS(FloatProblem):\n",
    "\n",
    "    def __init__(self, number_of_genes, extra_vars, timepoints, actualExpressionGeneInd, actualExpressionTimeInd, constr, eta):\n",
    "        \"\"\" :param number_of_variables: Number of decision variables of the problem.\n",
    "        \"\"\"\n",
    "        super(GRNinfSS, self).__init__()\n",
    "        self.number_of_variables = (2 * number_of_genes * number_of_genes) + extra_vars * number_of_genes\n",
    "        self.number_of_objectives = 2\n",
    "        self.number_of_constraints = 0\n",
    "\n",
    "        self.number_of_genes = number_of_genes\n",
    "        self.extra_vars = extra_vars\n",
    "\n",
    "        self.obj_directions = [self.MINIMIZE, self.MINIMIZE]\n",
    "        self.obj_labels = ['MSE', 'TR']\n",
    "\n",
    "        # create np array with lower bound for variables\n",
    "        df_lb = pd.DataFrame(np.zeros((self.number_of_genes,2*self.number_of_genes + self.extra_vars)))\n",
    "        df_lb[0] = 0.\n",
    "        df_lb[1] = 0.\n",
    "        df_lb[df_lb.columns[self.extra_vars:]] = -3.\n",
    "        lb = df_lb.to_numpy().ravel()\n",
    "        \n",
    "        self.lower_bound = lb #self.number_of_variables * [0.0]\n",
    "        \n",
    "        # create np array with upper bound for variables\n",
    "        df_ub = pd.DataFrame(np.zeros((self.number_of_genes,2*self.number_of_genes + self.extra_vars)))\n",
    "        df_ub[0] = 5.\n",
    "        df_ub[1] = 5.\n",
    "        df_ub[df_ub.columns[self.extra_vars:]] = 3.\n",
    "        ub = df_ub.to_numpy().ravel()\n",
    "        \n",
    "        self.upper_bound = ub #self.number_of_variables * [1.0]\n",
    "\n",
    "        self.timepoints = timepoints\n",
    "        self.actualExpressionGeneInd = actualExpressionGeneInd\n",
    "        self.actualExpressionTimeInd = actualExpressionTimeInd\n",
    "        self.eta = eta\n",
    "        self.constr = constr\n",
    "\n",
    "    #Caluclate Fitness\n",
    "    def evaluate(self, solution: FloatSolution) -> FloatSolution:\n",
    "        #transform solution variables from 1d list to 2d np.array. e.g. arr_solution[0] should give all variables for gene 0\n",
    "        arr_solution = np.array(solution.variables)\n",
    "        arr_solution.shape = (self.number_of_genes, -1)\n",
    "\n",
    "        #initialize ones array for preditcions\n",
    "        predictions = np.ones(np.shape(self.actualExpressionTimeInd))\n",
    "\n",
    "        #convert all 0s to 1s in the actual expression (necessary for the problem model, otherwise there would be 0s in the np.prod setting the whole term to zero and throwing an error: NaN value)\n",
    "        actExpr = self.actualExpressionTimeInd\n",
    "        actExpr[actExpr == 0] = 1\n",
    "\n",
    "        # list to save index where constraint was set\n",
    "        list_t_g = []\n",
    "\n",
    "        # calculate prediced gene expression for all genes at timepoint t\n",
    "        for t in range(1,len(timepoints)): \n",
    "\n",
    "            for gene in range(0,self.number_of_genes):\n",
    "                pred = predictions[t-1][gene] + 0.5 * self.eta * (self.SScalc(actExpr, arr_solution, t, gene, \"ACTUAL\") + self.SScalc(predictions, arr_solution, t-1, gene, \"PREDICTION\"))\n",
    "                \n",
    "                if self.constr:\n",
    "                    if pred <= 0:\n",
    "                        predictions[t][gene] = 1\n",
    "                        # save index to later set the predicted expression from 1 to 0\n",
    "                        list_t_g.append((t,gene))\n",
    "                    else:\n",
    "                        predictions[t][gene] = pred\n",
    "                else:\n",
    "                    predictions[t][gene] = pred\n",
    "\n",
    "\n",
    "                #logging.debug(\"Timepoint %s and gene %s\", t, gene)\n",
    "                #logging.debug(predictions[t][gene])\n",
    "\n",
    "        # set predicted expression from 1 to 0 where constraint was applied; to have accurate MSE calculations\n",
    "        for i in list_t_g:\n",
    "            predictions[i] = 0\n",
    "\n",
    "        # claculate MSE\n",
    "        \n",
    "        # version 1\n",
    "        MSE = sum(sum(np.power(self.actualExpressionTimeInd - predictions,2)))/(len(actualExpressionTimeInd)*self.number_of_genes)\n",
    "\n",
    "        # version 2\n",
    "        #MSE = sum(sum(np.power((predictions - self.actualExpressionTimeInd)/self.actualExpressionTimeInd, 2)))\n",
    "\n",
    "        # claculate TR\n",
    "        TR = 0\n",
    "        \n",
    "        for gene in range(0,self.number_of_genes):\n",
    "            sortedSol = np.sort(np.abs(arr_solution[gene][self.extra_vars:]))\n",
    "            extract = sortedSol[:(self.number_of_genes*2-4)]\n",
    "            TR = TR + sum(extract)\n",
    "\n",
    "        solution.objectives[0] = MSE\n",
    "        solution.objectives[1] = TR   \n",
    "\n",
    "        return solution\n",
    "\n",
    "    # calculate SS for one gene at one timepoint\n",
    "    def SScalc(self, expression, arr_solution, t, gene, exptype):  \n",
    "        result = arr_solution[gene][0] * np.prod(np.power(expression[t], arr_solution[gene][self.extra_vars : self.extra_vars + self.number_of_genes])) - arr_solution[gene][1] * np.prod(np.power(expression[t], arr_solution[gene][self.extra_vars + self.number_of_genes : ]))\n",
    "        \n",
    "        '''\n",
    "        if exptype == \"PREDICTION\":\n",
    "            logging.debug(\"Predicion SS result %s\", result)\n",
    "            logging.debug(\"Expression Array %s\", expression[t])\n",
    "            logging.debug(\"Solution Array Production %s\", arr_solution[gene][self.extra_vars : self.extra_vars + self.number_of_genes]) \n",
    "            logging.debug(\"Solution Array Degradation %s\", arr_solution[gene][self.extra_vars + self.number_of_genes : ])   \n",
    "        if exptype == \"ACTUAL\":\n",
    "            logging.debug(\"Actual SS result %s\", result)   \n",
    "        '''\n",
    "\n",
    "        return result\n",
    "\n",
    "    def get_name(self):\n",
    "        return 'GRNinfSS'"
   ]
  },
  {
   "cell_type": "code",
   "execution_count": 67,
   "metadata": {},
   "outputs": [
    {
     "output_type": "execute_result",
     "data": {
      "text/plain": [
       "0.26455431489888454"
      ]
     },
     "metadata": {},
     "execution_count": 67
    }
   ],
   "source": [
    "test = []\n",
    "test.append((13,2))\n",
    "test.append((2,3))\n",
    "\n",
    "actualExpressionTimeInd[test[0]]"
   ]
  },
  {
   "source": [
    "## Functions to calculate performance measures"
   ],
   "cell_type": "markdown",
   "metadata": {}
  },
  {
   "cell_type": "code",
   "execution_count": 43,
   "metadata": {},
   "outputs": [],
   "source": [
    "#Functions for calculating confusion matrix results\n",
    "\n",
    "# solution / predicted data preparation for confusion matrix calcs\n",
    "def prepareSolution(solutions, sol, prob = \"SS\"):\n",
    "    solprep = np.array(solutions[sol].variables[:])\n",
    "    solprep.shape = (8,-1)\n",
    "    solprep = pd.DataFrame(solprep)\n",
    "    # drop first 2 columns = extra variables\n",
    "    solprep = solprep.drop(solprep.columns[[0,1]], axis =1)\n",
    "    \n",
    "    # calculations for SS Problem model\n",
    "\n",
    "    if prob == \"SS\":\n",
    "        splitcol = int(len(solprep.columns[:])/2) # needs logic to catch error when lenght of column number is odd\n",
    "        sol_prod = solprep[solprep.columns[0:splitcol]]\n",
    "        sol_degr = solprep[solprep.columns[splitcol:]]\n",
    "        # substract degradation terms from production terms to get final kinetic order. \n",
    "        # Assumption: one gene can only decrease or increase the production of another gene, but not both\n",
    "        solprep = (sol_prod.to_numpy() - sol_degr.to_numpy())\n",
    "    else:\n",
    "        solprep = solprep.to_numpy()\n",
    "\n",
    "    # widen to 1d np array\n",
    "    solprep = solprep.reshape(1,-1)\n",
    "    solprep = solprep.ravel()\n",
    "    \n",
    "    '''\n",
    "    Take the mean of the absolute values of the kinetic order\n",
    "    Everything below the negative mean and above the positive mean is set to 1, indicating a valid interaction\n",
    "    Everything else is set to 0, indicating no edge in the network\n",
    "    '''\n",
    "    abs_sols = np.absolute(solprep)\n",
    "    mean_sols = abs_sols.mean()\n",
    "    std_sols = abs_sols.std()\n",
    "\n",
    "    '''\n",
    "    solprep[solprep <= -mean_sols] = 1\n",
    "    solprep[solprep >= mean_sols] = 1\n",
    "    solprep[solprep != 1] = 0\n",
    "    '''\n",
    "    abs_sols[abs_sols >= mean_sols] = 1\n",
    "    abs_sols[abs_sols != 1] = 0\n",
    "\n",
    "    '''\n",
    "    # replace all non-zero values with 1 (indicating that there is an edge between nodes)\n",
    "    solprep[solprep != 0.] = 1\n",
    "    solprep = solprep.astype(int)\n",
    "    '''\n",
    "\n",
    "    '''\n",
    "    Set one variable to 0 to be able to caculate confusion matrix. Only necessary because algorithm doesnt succeed yet to set variables to 0.\n",
    "    Otherwise there would not be a \"non existing edge\" in the gene network graph. All nodes would be connected.  \n",
    "    The majority of variables should be zero => no existing edges\n",
    "    '''\n",
    "    #solprep[0] = 0\n",
    "    \n",
    "    \n",
    "    #print(solprep)\n",
    "    return abs_sols\n",
    "\n",
    "# actual data preparation for confusion matrix calcs\n",
    "def prepareActual(filepath, filename):\n",
    "    # read in actual SOS topology\n",
    "    actual = pd.read_csv(filepath + filename, sep='\\t')\n",
    "    # drop first column (gene names)\n",
    "    actual = actual.iloc[: , 1:]\n",
    "    # widen to 1d np array\n",
    "    actual = actual.values.reshape(1,-1)\n",
    "    actual = actual.ravel()\n",
    "\n",
    "    # replace all non-zero values with 1 (indicating that there is an edge between nodes)\n",
    "    actual[actual != 0] = 1\n",
    "    \n",
    "    #print(actual)\n",
    "    return actual\n",
    "\n",
    "# calculate confustion matrix results\n",
    "def calculateConMatResults(solutions, solnum, filepath, filename, prob):\n",
    "    predicted = prepareSolution(solutions, solnum, prob)\n",
    "    actual = prepareActual(filepath, filename)\n",
    "\n",
    "    Num_pred_edges = np.count_nonzero(predicted)\n",
    "\n",
    "    # create df\n",
    "    d = {\"actual\":actual, \"predicted\":predicted}\n",
    "    df_confmat = pd.DataFrame(data=d)\n",
    "    confmat = pd.crosstab(df_confmat['actual'], df_confmat['predicted'], rownames=['Actual'], colnames=['Predicted'])\n",
    "\n",
    "    #print(df_confmat)\n",
    "    #print(confmat)\n",
    "\n",
    "    TP = confmat.iloc[1,1]\n",
    "    FP = confmat.iloc[0,1]\n",
    "    TN = confmat.iloc[0,0]\n",
    "    FN = confmat.iloc[1,0]\n",
    "\n",
    "    TPR = TP/(TP+FN)\n",
    "    FPR = FP/(FP+TN)\n",
    "    TNR = TN/(FP+TN)\n",
    "    PPV = TP/(TP+FP)\n",
    "    ACC = (TP+TN)/(TP+FP+FN+TN)\n",
    "    Fscore = (2*TP)/(2*TP+FP+FN)\n",
    "\n",
    "    d = {\"TP\":TP, \"FP\":FP, \"TN\":TN, \"FN\":FN, \"TPR\":TPR, \"FPR\":FPR, \"TNR\":TNR, \"PPV\":PPV, \"ACC\":ACC, \"Fscore\":Fscore, \"Predicted Edges\":Num_pred_edges}\n",
    "\n",
    "    return d\n",
    "    \n",
    "\n",
    "# function to calculate the mean of a particular performance measure in the list of solution perpformances\n",
    "def calcMean(lst_performance, key):\n",
    "    avg = 0\n",
    "    for sol in lst_performance:\n",
    "        avg = avg + sol[key]\n",
    "\n",
    "    return avg/len(lst_performance)\n",
    "\n",
    "# function to calculate average performance of solutions\n",
    "def calculateAverageResults(front, filepath, filenameActual, prob):\n",
    "    \n",
    "    # list to sore performance measures for each soltuion in the pareto front\n",
    "    lst_performance = []\n",
    "    # calculate performance for each solution and append to list\n",
    "    for sol in range(0,len(front[:])):\n",
    "        lst_performance.append(calculateConMatResults(front, sol, filepath, filenameActual, prob))\n",
    "\n",
    "    # get dictionary keys from performance list\n",
    "    lst_keys = list(lst_performance[0].keys())\n",
    "\n",
    "    # calculate mean of all performance measures\n",
    "    dict_avg_perf = {}\n",
    "\n",
    "    for key in lst_keys:\n",
    "        dict_avg_perf[key] = calcMean(lst_performance, key)\n",
    "\n",
    "    return dict_avg_perf"
   ]
  },
  {
   "source": [
    "# Execute the Optimization\n",
    "\n",
    "Using the defined Problem Models with the jMetal OMOPSO algorithm"
   ],
   "cell_type": "markdown",
   "metadata": {}
  },
  {
   "source": [
    "## Execute the S-System Opitmization"
   ],
   "cell_type": "markdown",
   "metadata": {}
  },
  {
   "cell_type": "code",
   "execution_count": 71,
   "metadata": {
    "tags": []
   },
   "outputs": [
    {
     "output_type": "stream",
     "name": "stderr",
     "text": [
      "C:\\Users\\thoma\\anaconda3\\envs\\aci\\lib\\site-packages\\numpy\\core\\fromnumeric.py:87: RuntimeWarning:\n",
      "\n",
      "overflow encountered in reduce\n",
      "\n",
      "<ipython-input-70-f5a901433b98>:100: RuntimeWarning:\n",
      "\n",
      "overflow encountered in power\n",
      "\n",
      "C:\\Users\\thoma\\anaconda3\\envs\\aci\\lib\\site-packages\\numpy\\core\\fromnumeric.py:87: RuntimeWarning:\n",
      "\n",
      "invalid value encountered in reduce\n",
      "\n",
      "<ipython-input-70-f5a901433b98>:80: RuntimeWarning:\n",
      "\n",
      "overflow encountered in power\n",
      "\n",
      "<ipython-input-70-f5a901433b98>:100: RuntimeWarning:\n",
      "\n",
      "invalid value encountered in double_scalars\n",
      "\n",
      "<ipython-input-70-f5a901433b98>:100: RuntimeWarning:\n",
      "\n",
      "overflow encountered in double_scalars\n",
      "\n",
      "<ipython-input-70-f5a901433b98>:59: RuntimeWarning:\n",
      "\n",
      "invalid value encountered in double_scalars\n",
      "\n"
     ]
    }
   ],
   "source": [
    "problem = GRNinfSS(number_of_genes = 8, extra_vars = 2, timepoints = timepoints, actualExpressionGeneInd = actualExpressionGeneInd, actualExpressionTimeInd = actualExpressionTimeInd, constr = True, eta = 0.00000000001) #, eta = 0.00000000001\n",
    "\n",
    "max_evaluations = 10000\n",
    "swarm_size = 100\n",
    "mutation_probability = (swarm_size / 3) / 100\n",
    "\n",
    "algorithm = OMOPSO(\n",
    "    problem=problem,\n",
    "    swarm_size=swarm_size,\n",
    "    epsilon=0.0075,\n",
    "    uniform_mutation=UniformMutation(probability=mutation_probability, perturbation=0.5),\n",
    "    non_uniform_mutation=NonUniformMutation(mutation_probability, perturbation=0.5,\n",
    "                                            max_iterations=int(max_evaluations / swarm_size)),\n",
    "    leaders=CrowdingDistanceArchive(100),\n",
    "    termination_criterion=StoppingByEvaluations(max_evaluations)\n",
    ")\n",
    "\n",
    "algorithm.run()\n",
    "SS_solutions = algorithm.get_result()"
   ]
  },
  {
   "source": [
    "## Visualize the Pareto Front"
   ],
   "cell_type": "markdown",
   "metadata": {}
  },
  {
   "cell_type": "code",
   "execution_count": 72,
   "metadata": {},
   "outputs": [
    {
     "output_type": "display_data",
     "data": {
      "text/plain": "<Figure size 432x288 with 1 Axes>",
      "image/svg+xml": "<?xml version=\"1.0\" encoding=\"utf-8\" standalone=\"no\"?>\r\n<!DOCTYPE svg PUBLIC \"-//W3C//DTD SVG 1.1//EN\"\r\n  \"http://www.w3.org/Graphics/SVG/1.1/DTD/svg11.dtd\">\r\n<!-- Created with matplotlib (https://matplotlib.org/) -->\r\n<svg height=\"290.99625pt\" version=\"1.1\" viewBox=\"0 0 382.603125 290.99625\" width=\"382.603125pt\" xmlns=\"http://www.w3.org/2000/svg\" xmlns:xlink=\"http://www.w3.org/1999/xlink\">\r\n <metadata>\r\n  <rdf:RDF xmlns:cc=\"http://creativecommons.org/ns#\" xmlns:dc=\"http://purl.org/dc/elements/1.1/\" xmlns:rdf=\"http://www.w3.org/1999/02/22-rdf-syntax-ns#\">\r\n   <cc:Work>\r\n    <dc:type rdf:resource=\"http://purl.org/dc/dcmitype/StillImage\"/>\r\n    <dc:date>2021-06-12T18:51:32.752404</dc:date>\r\n    <dc:format>image/svg+xml</dc:format>\r\n    <dc:creator>\r\n     <cc:Agent>\r\n      <dc:title>Matplotlib v3.3.4, https://matplotlib.org/</dc:title>\r\n     </cc:Agent>\r\n    </dc:creator>\r\n   </cc:Work>\r\n  </rdf:RDF>\r\n </metadata>\r\n <defs>\r\n  <style type=\"text/css\">*{stroke-linecap:butt;stroke-linejoin:round;}</style>\r\n </defs>\r\n <g id=\"figure_1\">\r\n  <g id=\"patch_1\">\r\n   <path d=\"M 0 290.99625 \r\nL 382.603125 290.99625 \r\nL 382.603125 0 \r\nL 0 0 \r\nz\r\n\" style=\"fill:none;\"/>\r\n  </g>\r\n  <g id=\"axes_1\">\r\n   <g id=\"patch_2\">\r\n    <path d=\"M 40.603125 253.44 \r\nL 375.403125 253.44 \r\nL 375.403125 36 \r\nL 40.603125 36 \r\nz\r\n\" style=\"fill:#ffffff;\"/>\r\n   </g>\r\n   <g id=\"PathCollection_1\">\r\n    <defs>\r\n     <path d=\"M 0 1.581139 \r\nC 0.419323 1.581139 0.821528 1.41454 1.118034 1.118034 \r\nC 1.41454 0.821528 1.581139 0.419323 1.581139 0 \r\nC 1.581139 -0.419323 1.41454 -0.821528 1.118034 -1.118034 \r\nC 0.821528 -1.41454 0.419323 -1.581139 0 -1.581139 \r\nC -0.419323 -1.581139 -0.821528 -1.41454 -1.118034 -1.118034 \r\nC -1.41454 -0.821528 -1.581139 -0.419323 -1.581139 0 \r\nC -1.581139 0.419323 -1.41454 0.821528 -1.118034 1.118034 \r\nC -0.821528 1.41454 -0.419323 1.581139 0 1.581139 \r\nz\r\n\" id=\"mf4aaff28eb\" style=\"stroke:#236fa4;\"/>\r\n    </defs>\r\n    <g clip-path=\"url(#pfa0a8a04cb)\">\r\n     <use style=\"fill:#236fa4;stroke:#236fa4;\" x=\"74.449463\" xlink:href=\"#mf4aaff28eb\" y=\"113.657533\"/>\r\n     <use style=\"fill:#236fa4;stroke:#236fa4;\" x=\"97.054404\" xlink:href=\"#mf4aaff28eb\" y=\"178.076774\"/>\r\n     <use style=\"fill:#236fa4;stroke:#236fa4;\" x=\"81.911383\" xlink:href=\"#mf4aaff28eb\" y=\"147.001051\"/>\r\n     <use style=\"fill:#236fa4;stroke:#236fa4;\" x=\"66.280794\" xlink:href=\"#mf4aaff28eb\" y=\"74.439348\"/>\r\n     <use style=\"fill:#236fa4;stroke:#236fa4;\" x=\"110.124733\" xlink:href=\"#mf4aaff28eb\" y=\"192.781359\"/>\r\n     <use style=\"fill:#236fa4;stroke:#236fa4;\" x=\"151.961498\" xlink:href=\"#mf4aaff28eb\" y=\"202.929534\"/>\r\n     <use style=\"fill:#236fa4;stroke:#236fa4;\" x=\"55.821307\" xlink:href=\"#mf4aaff28eb\" y=\"45.883636\"/>\r\n     <use style=\"fill:#236fa4;stroke:#236fa4;\" x=\"360.184943\" xlink:href=\"#mf4aaff28eb\" y=\"243.556364\"/>\r\n     <use style=\"fill:#236fa4;stroke:#236fa4;\" x=\"126.766308\" xlink:href=\"#mf4aaff28eb\" y=\"196.023612\"/>\r\n     <use style=\"fill:#236fa4;stroke:#236fa4;\" x=\"237.255907\" xlink:href=\"#mf4aaff28eb\" y=\"220.720871\"/>\r\n     <use style=\"fill:#236fa4;stroke:#236fa4;\" x=\"245.126934\" xlink:href=\"#mf4aaff28eb\" y=\"227.74075\"/>\r\n     <use style=\"fill:#236fa4;stroke:#236fa4;\" x=\"178.137512\" xlink:href=\"#mf4aaff28eb\" y=\"205.695266\"/>\r\n     <use style=\"fill:#236fa4;stroke:#236fa4;\" x=\"308.8916\" xlink:href=\"#mf4aaff28eb\" y=\"238.511616\"/>\r\n     <use style=\"fill:#236fa4;stroke:#236fa4;\" x=\"300.013454\" xlink:href=\"#mf4aaff28eb\" y=\"237.400731\"/>\r\n     <use style=\"fill:#236fa4;stroke:#236fa4;\" x=\"91.098651\" xlink:href=\"#mf4aaff28eb\" y=\"174.933627\"/>\r\n     <use style=\"fill:#236fa4;stroke:#236fa4;\" x=\"248.884427\" xlink:href=\"#mf4aaff28eb\" y=\"231.958939\"/>\r\n     <use style=\"fill:#236fa4;stroke:#236fa4;\" x=\"134.423119\" xlink:href=\"#mf4aaff28eb\" y=\"199.948764\"/>\r\n     <use style=\"fill:#236fa4;stroke:#236fa4;\" x=\"187.756583\" xlink:href=\"#mf4aaff28eb\" y=\"219.392952\"/>\r\n     <use style=\"fill:#236fa4;stroke:#236fa4;\" x=\"102.230752\" xlink:href=\"#mf4aaff28eb\" y=\"185.391035\"/>\r\n     <use style=\"fill:#236fa4;stroke:#236fa4;\" x=\"165.362091\" xlink:href=\"#mf4aaff28eb\" y=\"204.118752\"/>\r\n    </g>\r\n   </g>\r\n   <g id=\"matplotlib.axis_1\">\r\n    <g id=\"xtick_1\">\r\n     <g id=\"line2d_1\">\r\n      <defs>\r\n       <path d=\"M 0 0 \r\nL 0 3.5 \r\n\" id=\"maa87968a49\" style=\"stroke:#000000;stroke-width:0.8;\"/>\r\n      </defs>\r\n      <g>\r\n       <use style=\"stroke:#000000;stroke-width:0.8;\" x=\"70.561928\" xlink:href=\"#maa87968a49\" y=\"253.44\"/>\r\n      </g>\r\n     </g>\r\n     <g id=\"text_1\">\r\n      <!-- 0.25 -->\r\n      <g transform=\"translate(59.429115 268.038437)scale(0.1 -0.1)\">\r\n       <defs>\r\n        <path d=\"M 31.78125 66.40625 \r\nQ 24.171875 66.40625 20.328125 58.90625 \r\nQ 16.5 51.421875 16.5 36.375 \r\nQ 16.5 21.390625 20.328125 13.890625 \r\nQ 24.171875 6.390625 31.78125 6.390625 \r\nQ 39.453125 6.390625 43.28125 13.890625 \r\nQ 47.125 21.390625 47.125 36.375 \r\nQ 47.125 51.421875 43.28125 58.90625 \r\nQ 39.453125 66.40625 31.78125 66.40625 \r\nz\r\nM 31.78125 74.21875 \r\nQ 44.046875 74.21875 50.515625 64.515625 \r\nQ 56.984375 54.828125 56.984375 36.375 \r\nQ 56.984375 17.96875 50.515625 8.265625 \r\nQ 44.046875 -1.421875 31.78125 -1.421875 \r\nQ 19.53125 -1.421875 13.0625 8.265625 \r\nQ 6.59375 17.96875 6.59375 36.375 \r\nQ 6.59375 54.828125 13.0625 64.515625 \r\nQ 19.53125 74.21875 31.78125 74.21875 \r\nz\r\n\" id=\"DejaVuSans-48\"/>\r\n        <path d=\"M 10.6875 12.40625 \r\nL 21 12.40625 \r\nL 21 0 \r\nL 10.6875 0 \r\nz\r\n\" id=\"DejaVuSans-46\"/>\r\n        <path d=\"M 19.1875 8.296875 \r\nL 53.609375 8.296875 \r\nL 53.609375 0 \r\nL 7.328125 0 \r\nL 7.328125 8.296875 \r\nQ 12.9375 14.109375 22.625 23.890625 \r\nQ 32.328125 33.6875 34.8125 36.53125 \r\nQ 39.546875 41.84375 41.421875 45.53125 \r\nQ 43.3125 49.21875 43.3125 52.78125 \r\nQ 43.3125 58.59375 39.234375 62.25 \r\nQ 35.15625 65.921875 28.609375 65.921875 \r\nQ 23.96875 65.921875 18.8125 64.3125 \r\nQ 13.671875 62.703125 7.8125 59.421875 \r\nL 7.8125 69.390625 \r\nQ 13.765625 71.78125 18.9375 73 \r\nQ 24.125 74.21875 28.421875 74.21875 \r\nQ 39.75 74.21875 46.484375 68.546875 \r\nQ 53.21875 62.890625 53.21875 53.421875 \r\nQ 53.21875 48.921875 51.53125 44.890625 \r\nQ 49.859375 40.875 45.40625 35.40625 \r\nQ 44.1875 33.984375 37.640625 27.21875 \r\nQ 31.109375 20.453125 19.1875 8.296875 \r\nz\r\n\" id=\"DejaVuSans-50\"/>\r\n        <path d=\"M 10.796875 72.90625 \r\nL 49.515625 72.90625 \r\nL 49.515625 64.59375 \r\nL 19.828125 64.59375 \r\nL 19.828125 46.734375 \r\nQ 21.96875 47.46875 24.109375 47.828125 \r\nQ 26.265625 48.1875 28.421875 48.1875 \r\nQ 40.625 48.1875 47.75 41.5 \r\nQ 54.890625 34.8125 54.890625 23.390625 \r\nQ 54.890625 11.625 47.5625 5.09375 \r\nQ 40.234375 -1.421875 26.90625 -1.421875 \r\nQ 22.3125 -1.421875 17.546875 -0.640625 \r\nQ 12.796875 0.140625 7.71875 1.703125 \r\nL 7.71875 11.625 \r\nQ 12.109375 9.234375 16.796875 8.0625 \r\nQ 21.484375 6.890625 26.703125 6.890625 \r\nQ 35.15625 6.890625 40.078125 11.328125 \r\nQ 45.015625 15.765625 45.015625 23.390625 \r\nQ 45.015625 31 40.078125 35.4375 \r\nQ 35.15625 39.890625 26.703125 39.890625 \r\nQ 22.75 39.890625 18.8125 39.015625 \r\nQ 14.890625 38.140625 10.796875 36.28125 \r\nz\r\n\" id=\"DejaVuSans-53\"/>\r\n       </defs>\r\n       <use xlink:href=\"#DejaVuSans-48\"/>\r\n       <use x=\"63.623047\" xlink:href=\"#DejaVuSans-46\"/>\r\n       <use x=\"95.410156\" xlink:href=\"#DejaVuSans-50\"/>\r\n       <use x=\"159.033203\" xlink:href=\"#DejaVuSans-53\"/>\r\n      </g>\r\n     </g>\r\n    </g>\r\n    <g id=\"xtick_2\">\r\n     <g id=\"line2d_2\">\r\n      <g>\r\n       <use style=\"stroke:#000000;stroke-width:0.8;\" x=\"124.375297\" xlink:href=\"#maa87968a49\" y=\"253.44\"/>\r\n      </g>\r\n     </g>\r\n     <g id=\"text_2\">\r\n      <!-- 0.30 -->\r\n      <g transform=\"translate(113.242485 268.038437)scale(0.1 -0.1)\">\r\n       <defs>\r\n        <path d=\"M 40.578125 39.3125 \r\nQ 47.65625 37.796875 51.625 33 \r\nQ 55.609375 28.21875 55.609375 21.1875 \r\nQ 55.609375 10.40625 48.1875 4.484375 \r\nQ 40.765625 -1.421875 27.09375 -1.421875 \r\nQ 22.515625 -1.421875 17.65625 -0.515625 \r\nQ 12.796875 0.390625 7.625 2.203125 \r\nL 7.625 11.71875 \r\nQ 11.71875 9.328125 16.59375 8.109375 \r\nQ 21.484375 6.890625 26.8125 6.890625 \r\nQ 36.078125 6.890625 40.9375 10.546875 \r\nQ 45.796875 14.203125 45.796875 21.1875 \r\nQ 45.796875 27.640625 41.28125 31.265625 \r\nQ 36.765625 34.90625 28.71875 34.90625 \r\nL 20.21875 34.90625 \r\nL 20.21875 43.015625 \r\nL 29.109375 43.015625 \r\nQ 36.375 43.015625 40.234375 45.921875 \r\nQ 44.09375 48.828125 44.09375 54.296875 \r\nQ 44.09375 59.90625 40.109375 62.90625 \r\nQ 36.140625 65.921875 28.71875 65.921875 \r\nQ 24.65625 65.921875 20.015625 65.03125 \r\nQ 15.375 64.15625 9.8125 62.3125 \r\nL 9.8125 71.09375 \r\nQ 15.4375 72.65625 20.34375 73.4375 \r\nQ 25.25 74.21875 29.59375 74.21875 \r\nQ 40.828125 74.21875 47.359375 69.109375 \r\nQ 53.90625 64.015625 53.90625 55.328125 \r\nQ 53.90625 49.265625 50.4375 45.09375 \r\nQ 46.96875 40.921875 40.578125 39.3125 \r\nz\r\n\" id=\"DejaVuSans-51\"/>\r\n       </defs>\r\n       <use xlink:href=\"#DejaVuSans-48\"/>\r\n       <use x=\"63.623047\" xlink:href=\"#DejaVuSans-46\"/>\r\n       <use x=\"95.410156\" xlink:href=\"#DejaVuSans-51\"/>\r\n       <use x=\"159.033203\" xlink:href=\"#DejaVuSans-48\"/>\r\n      </g>\r\n     </g>\r\n    </g>\r\n    <g id=\"xtick_3\">\r\n     <g id=\"line2d_3\">\r\n      <g>\r\n       <use style=\"stroke:#000000;stroke-width:0.8;\" x=\"178.188667\" xlink:href=\"#maa87968a49\" y=\"253.44\"/>\r\n      </g>\r\n     </g>\r\n     <g id=\"text_3\">\r\n      <!-- 0.35 -->\r\n      <g transform=\"translate(167.055855 268.038437)scale(0.1 -0.1)\">\r\n       <use xlink:href=\"#DejaVuSans-48\"/>\r\n       <use x=\"63.623047\" xlink:href=\"#DejaVuSans-46\"/>\r\n       <use x=\"95.410156\" xlink:href=\"#DejaVuSans-51\"/>\r\n       <use x=\"159.033203\" xlink:href=\"#DejaVuSans-53\"/>\r\n      </g>\r\n     </g>\r\n    </g>\r\n    <g id=\"xtick_4\">\r\n     <g id=\"line2d_4\">\r\n      <g>\r\n       <use style=\"stroke:#000000;stroke-width:0.8;\" x=\"232.002037\" xlink:href=\"#maa87968a49\" y=\"253.44\"/>\r\n      </g>\r\n     </g>\r\n     <g id=\"text_4\">\r\n      <!-- 0.40 -->\r\n      <g transform=\"translate(220.869225 268.038437)scale(0.1 -0.1)\">\r\n       <defs>\r\n        <path d=\"M 37.796875 64.3125 \r\nL 12.890625 25.390625 \r\nL 37.796875 25.390625 \r\nz\r\nM 35.203125 72.90625 \r\nL 47.609375 72.90625 \r\nL 47.609375 25.390625 \r\nL 58.015625 25.390625 \r\nL 58.015625 17.1875 \r\nL 47.609375 17.1875 \r\nL 47.609375 0 \r\nL 37.796875 0 \r\nL 37.796875 17.1875 \r\nL 4.890625 17.1875 \r\nL 4.890625 26.703125 \r\nz\r\n\" id=\"DejaVuSans-52\"/>\r\n       </defs>\r\n       <use xlink:href=\"#DejaVuSans-48\"/>\r\n       <use x=\"63.623047\" xlink:href=\"#DejaVuSans-46\"/>\r\n       <use x=\"95.410156\" xlink:href=\"#DejaVuSans-52\"/>\r\n       <use x=\"159.033203\" xlink:href=\"#DejaVuSans-48\"/>\r\n      </g>\r\n     </g>\r\n    </g>\r\n    <g id=\"xtick_5\">\r\n     <g id=\"line2d_5\">\r\n      <g>\r\n       <use style=\"stroke:#000000;stroke-width:0.8;\" x=\"285.815407\" xlink:href=\"#maa87968a49\" y=\"253.44\"/>\r\n      </g>\r\n     </g>\r\n     <g id=\"text_5\">\r\n      <!-- 0.45 -->\r\n      <g transform=\"translate(274.682595 268.038437)scale(0.1 -0.1)\">\r\n       <use xlink:href=\"#DejaVuSans-48\"/>\r\n       <use x=\"63.623047\" xlink:href=\"#DejaVuSans-46\"/>\r\n       <use x=\"95.410156\" xlink:href=\"#DejaVuSans-52\"/>\r\n       <use x=\"159.033203\" xlink:href=\"#DejaVuSans-53\"/>\r\n      </g>\r\n     </g>\r\n    </g>\r\n    <g id=\"xtick_6\">\r\n     <g id=\"line2d_6\">\r\n      <g>\r\n       <use style=\"stroke:#000000;stroke-width:0.8;\" x=\"339.628777\" xlink:href=\"#maa87968a49\" y=\"253.44\"/>\r\n      </g>\r\n     </g>\r\n     <g id=\"text_6\">\r\n      <!-- 0.50 -->\r\n      <g transform=\"translate(328.495964 268.038437)scale(0.1 -0.1)\">\r\n       <use xlink:href=\"#DejaVuSans-48\"/>\r\n       <use x=\"63.623047\" xlink:href=\"#DejaVuSans-46\"/>\r\n       <use x=\"95.410156\" xlink:href=\"#DejaVuSans-53\"/>\r\n       <use x=\"159.033203\" xlink:href=\"#DejaVuSans-48\"/>\r\n      </g>\r\n     </g>\r\n    </g>\r\n    <g id=\"text_7\">\r\n     <!-- MSE -->\r\n     <g transform=\"translate(197.355469 281.716562)scale(0.1 -0.1)\">\r\n      <defs>\r\n       <path d=\"M 9.8125 72.90625 \r\nL 24.515625 72.90625 \r\nL 43.109375 23.296875 \r\nL 61.8125 72.90625 \r\nL 76.515625 72.90625 \r\nL 76.515625 0 \r\nL 66.890625 0 \r\nL 66.890625 64.015625 \r\nL 48.09375 14.015625 \r\nL 38.1875 14.015625 \r\nL 19.390625 64.015625 \r\nL 19.390625 0 \r\nL 9.8125 0 \r\nz\r\n\" id=\"DejaVuSans-77\"/>\r\n       <path d=\"M 53.515625 70.515625 \r\nL 53.515625 60.890625 \r\nQ 47.90625 63.578125 42.921875 64.890625 \r\nQ 37.9375 66.21875 33.296875 66.21875 \r\nQ 25.25 66.21875 20.875 63.09375 \r\nQ 16.5 59.96875 16.5 54.203125 \r\nQ 16.5 49.359375 19.40625 46.890625 \r\nQ 22.3125 44.4375 30.421875 42.921875 \r\nL 36.375 41.703125 \r\nQ 47.40625 39.59375 52.65625 34.296875 \r\nQ 57.90625 29 57.90625 20.125 \r\nQ 57.90625 9.515625 50.796875 4.046875 \r\nQ 43.703125 -1.421875 29.984375 -1.421875 \r\nQ 24.8125 -1.421875 18.96875 -0.25 \r\nQ 13.140625 0.921875 6.890625 3.21875 \r\nL 6.890625 13.375 \r\nQ 12.890625 10.015625 18.65625 8.296875 \r\nQ 24.421875 6.59375 29.984375 6.59375 \r\nQ 38.421875 6.59375 43.015625 9.90625 \r\nQ 47.609375 13.234375 47.609375 19.390625 \r\nQ 47.609375 24.75 44.3125 27.78125 \r\nQ 41.015625 30.8125 33.5 32.328125 \r\nL 27.484375 33.5 \r\nQ 16.453125 35.6875 11.515625 40.375 \r\nQ 6.59375 45.0625 6.59375 53.421875 \r\nQ 6.59375 63.09375 13.40625 68.65625 \r\nQ 20.21875 74.21875 32.171875 74.21875 \r\nQ 37.3125 74.21875 42.625 73.28125 \r\nQ 47.953125 72.359375 53.515625 70.515625 \r\nz\r\n\" id=\"DejaVuSans-83\"/>\r\n       <path d=\"M 9.8125 72.90625 \r\nL 55.90625 72.90625 \r\nL 55.90625 64.59375 \r\nL 19.671875 64.59375 \r\nL 19.671875 43.015625 \r\nL 54.390625 43.015625 \r\nL 54.390625 34.71875 \r\nL 19.671875 34.71875 \r\nL 19.671875 8.296875 \r\nL 56.78125 8.296875 \r\nL 56.78125 0 \r\nL 9.8125 0 \r\nz\r\n\" id=\"DejaVuSans-69\"/>\r\n      </defs>\r\n      <use xlink:href=\"#DejaVuSans-77\"/>\r\n      <use x=\"86.279297\" xlink:href=\"#DejaVuSans-83\"/>\r\n      <use x=\"149.755859\" xlink:href=\"#DejaVuSans-69\"/>\r\n     </g>\r\n    </g>\r\n   </g>\r\n   <g id=\"matplotlib.axis_2\">\r\n    <g id=\"ytick_1\">\r\n     <g id=\"line2d_7\">\r\n      <defs>\r\n       <path d=\"M 0 0 \r\nL -3.5 0 \r\n\" id=\"m0ff3e3f104\" style=\"stroke:#000000;stroke-width:0.8;\"/>\r\n      </defs>\r\n      <g>\r\n       <use style=\"stroke:#000000;stroke-width:0.8;\" x=\"40.603125\" xlink:href=\"#m0ff3e3f104\" y=\"244.04136\"/>\r\n      </g>\r\n     </g>\r\n     <g id=\"text_8\">\r\n      <!-- 30 -->\r\n      <g transform=\"translate(20.878125 247.840579)scale(0.1 -0.1)\">\r\n       <use xlink:href=\"#DejaVuSans-51\"/>\r\n       <use x=\"63.623047\" xlink:href=\"#DejaVuSans-48\"/>\r\n      </g>\r\n     </g>\r\n    </g>\r\n    <g id=\"ytick_2\">\r\n     <g id=\"line2d_8\">\r\n      <g>\r\n       <use style=\"stroke:#000000;stroke-width:0.8;\" x=\"40.603125\" xlink:href=\"#m0ff3e3f104\" y=\"211.580627\"/>\r\n      </g>\r\n     </g>\r\n     <g id=\"text_9\">\r\n      <!-- 40 -->\r\n      <g transform=\"translate(20.878125 215.379845)scale(0.1 -0.1)\">\r\n       <use xlink:href=\"#DejaVuSans-52\"/>\r\n       <use x=\"63.623047\" xlink:href=\"#DejaVuSans-48\"/>\r\n      </g>\r\n     </g>\r\n    </g>\r\n    <g id=\"ytick_3\">\r\n     <g id=\"line2d_9\">\r\n      <g>\r\n       <use style=\"stroke:#000000;stroke-width:0.8;\" x=\"40.603125\" xlink:href=\"#m0ff3e3f104\" y=\"179.119893\"/>\r\n      </g>\r\n     </g>\r\n     <g id=\"text_10\">\r\n      <!-- 50 -->\r\n      <g transform=\"translate(20.878125 182.919112)scale(0.1 -0.1)\">\r\n       <use xlink:href=\"#DejaVuSans-53\"/>\r\n       <use x=\"63.623047\" xlink:href=\"#DejaVuSans-48\"/>\r\n      </g>\r\n     </g>\r\n    </g>\r\n    <g id=\"ytick_4\">\r\n     <g id=\"line2d_10\">\r\n      <g>\r\n       <use style=\"stroke:#000000;stroke-width:0.8;\" x=\"40.603125\" xlink:href=\"#m0ff3e3f104\" y=\"146.65916\"/>\r\n      </g>\r\n     </g>\r\n     <g id=\"text_11\">\r\n      <!-- 60 -->\r\n      <g transform=\"translate(20.878125 150.458378)scale(0.1 -0.1)\">\r\n       <defs>\r\n        <path d=\"M 33.015625 40.375 \r\nQ 26.375 40.375 22.484375 35.828125 \r\nQ 18.609375 31.296875 18.609375 23.390625 \r\nQ 18.609375 15.53125 22.484375 10.953125 \r\nQ 26.375 6.390625 33.015625 6.390625 \r\nQ 39.65625 6.390625 43.53125 10.953125 \r\nQ 47.40625 15.53125 47.40625 23.390625 \r\nQ 47.40625 31.296875 43.53125 35.828125 \r\nQ 39.65625 40.375 33.015625 40.375 \r\nz\r\nM 52.59375 71.296875 \r\nL 52.59375 62.3125 \r\nQ 48.875 64.0625 45.09375 64.984375 \r\nQ 41.3125 65.921875 37.59375 65.921875 \r\nQ 27.828125 65.921875 22.671875 59.328125 \r\nQ 17.53125 52.734375 16.796875 39.40625 \r\nQ 19.671875 43.65625 24.015625 45.921875 \r\nQ 28.375 48.1875 33.59375 48.1875 \r\nQ 44.578125 48.1875 50.953125 41.515625 \r\nQ 57.328125 34.859375 57.328125 23.390625 \r\nQ 57.328125 12.15625 50.6875 5.359375 \r\nQ 44.046875 -1.421875 33.015625 -1.421875 \r\nQ 20.359375 -1.421875 13.671875 8.265625 \r\nQ 6.984375 17.96875 6.984375 36.375 \r\nQ 6.984375 53.65625 15.1875 63.9375 \r\nQ 23.390625 74.21875 37.203125 74.21875 \r\nQ 40.921875 74.21875 44.703125 73.484375 \r\nQ 48.484375 72.75 52.59375 71.296875 \r\nz\r\n\" id=\"DejaVuSans-54\"/>\r\n       </defs>\r\n       <use xlink:href=\"#DejaVuSans-54\"/>\r\n       <use x=\"63.623047\" xlink:href=\"#DejaVuSans-48\"/>\r\n      </g>\r\n     </g>\r\n    </g>\r\n    <g id=\"ytick_5\">\r\n     <g id=\"line2d_11\">\r\n      <g>\r\n       <use style=\"stroke:#000000;stroke-width:0.8;\" x=\"40.603125\" xlink:href=\"#m0ff3e3f104\" y=\"114.198426\"/>\r\n      </g>\r\n     </g>\r\n     <g id=\"text_12\">\r\n      <!-- 70 -->\r\n      <g transform=\"translate(20.878125 117.997645)scale(0.1 -0.1)\">\r\n       <defs>\r\n        <path d=\"M 8.203125 72.90625 \r\nL 55.078125 72.90625 \r\nL 55.078125 68.703125 \r\nL 28.609375 0 \r\nL 18.3125 0 \r\nL 43.21875 64.59375 \r\nL 8.203125 64.59375 \r\nz\r\n\" id=\"DejaVuSans-55\"/>\r\n       </defs>\r\n       <use xlink:href=\"#DejaVuSans-55\"/>\r\n       <use x=\"63.623047\" xlink:href=\"#DejaVuSans-48\"/>\r\n      </g>\r\n     </g>\r\n    </g>\r\n    <g id=\"ytick_6\">\r\n     <g id=\"line2d_12\">\r\n      <g>\r\n       <use style=\"stroke:#000000;stroke-width:0.8;\" x=\"40.603125\" xlink:href=\"#m0ff3e3f104\" y=\"81.737692\"/>\r\n      </g>\r\n     </g>\r\n     <g id=\"text_13\">\r\n      <!-- 80 -->\r\n      <g transform=\"translate(20.878125 85.536911)scale(0.1 -0.1)\">\r\n       <defs>\r\n        <path d=\"M 31.78125 34.625 \r\nQ 24.75 34.625 20.71875 30.859375 \r\nQ 16.703125 27.09375 16.703125 20.515625 \r\nQ 16.703125 13.921875 20.71875 10.15625 \r\nQ 24.75 6.390625 31.78125 6.390625 \r\nQ 38.8125 6.390625 42.859375 10.171875 \r\nQ 46.921875 13.96875 46.921875 20.515625 \r\nQ 46.921875 27.09375 42.890625 30.859375 \r\nQ 38.875 34.625 31.78125 34.625 \r\nz\r\nM 21.921875 38.8125 \r\nQ 15.578125 40.375 12.03125 44.71875 \r\nQ 8.5 49.078125 8.5 55.328125 \r\nQ 8.5 64.0625 14.71875 69.140625 \r\nQ 20.953125 74.21875 31.78125 74.21875 \r\nQ 42.671875 74.21875 48.875 69.140625 \r\nQ 55.078125 64.0625 55.078125 55.328125 \r\nQ 55.078125 49.078125 51.53125 44.71875 \r\nQ 48 40.375 41.703125 38.8125 \r\nQ 48.828125 37.15625 52.796875 32.3125 \r\nQ 56.78125 27.484375 56.78125 20.515625 \r\nQ 56.78125 9.90625 50.3125 4.234375 \r\nQ 43.84375 -1.421875 31.78125 -1.421875 \r\nQ 19.734375 -1.421875 13.25 4.234375 \r\nQ 6.78125 9.90625 6.78125 20.515625 \r\nQ 6.78125 27.484375 10.78125 32.3125 \r\nQ 14.796875 37.15625 21.921875 38.8125 \r\nz\r\nM 18.3125 54.390625 \r\nQ 18.3125 48.734375 21.84375 45.5625 \r\nQ 25.390625 42.390625 31.78125 42.390625 \r\nQ 38.140625 42.390625 41.71875 45.5625 \r\nQ 45.3125 48.734375 45.3125 54.390625 \r\nQ 45.3125 60.0625 41.71875 63.234375 \r\nQ 38.140625 66.40625 31.78125 66.40625 \r\nQ 25.390625 66.40625 21.84375 63.234375 \r\nQ 18.3125 60.0625 18.3125 54.390625 \r\nz\r\n\" id=\"DejaVuSans-56\"/>\r\n       </defs>\r\n       <use xlink:href=\"#DejaVuSans-56\"/>\r\n       <use x=\"63.623047\" xlink:href=\"#DejaVuSans-48\"/>\r\n      </g>\r\n     </g>\r\n    </g>\r\n    <g id=\"ytick_7\">\r\n     <g id=\"line2d_13\">\r\n      <g>\r\n       <use style=\"stroke:#000000;stroke-width:0.8;\" x=\"40.603125\" xlink:href=\"#m0ff3e3f104\" y=\"49.276959\"/>\r\n      </g>\r\n     </g>\r\n     <g id=\"text_14\">\r\n      <!-- 90 -->\r\n      <g transform=\"translate(20.878125 53.076178)scale(0.1 -0.1)\">\r\n       <defs>\r\n        <path d=\"M 10.984375 1.515625 \r\nL 10.984375 10.5 \r\nQ 14.703125 8.734375 18.5 7.8125 \r\nQ 22.3125 6.890625 25.984375 6.890625 \r\nQ 35.75 6.890625 40.890625 13.453125 \r\nQ 46.046875 20.015625 46.78125 33.40625 \r\nQ 43.953125 29.203125 39.59375 26.953125 \r\nQ 35.25 24.703125 29.984375 24.703125 \r\nQ 19.046875 24.703125 12.671875 31.3125 \r\nQ 6.296875 37.9375 6.296875 49.421875 \r\nQ 6.296875 60.640625 12.9375 67.421875 \r\nQ 19.578125 74.21875 30.609375 74.21875 \r\nQ 43.265625 74.21875 49.921875 64.515625 \r\nQ 56.59375 54.828125 56.59375 36.375 \r\nQ 56.59375 19.140625 48.40625 8.859375 \r\nQ 40.234375 -1.421875 26.421875 -1.421875 \r\nQ 22.703125 -1.421875 18.890625 -0.6875 \r\nQ 15.09375 0.046875 10.984375 1.515625 \r\nz\r\nM 30.609375 32.421875 \r\nQ 37.25 32.421875 41.125 36.953125 \r\nQ 45.015625 41.5 45.015625 49.421875 \r\nQ 45.015625 57.28125 41.125 61.84375 \r\nQ 37.25 66.40625 30.609375 66.40625 \r\nQ 23.96875 66.40625 20.09375 61.84375 \r\nQ 16.21875 57.28125 16.21875 49.421875 \r\nQ 16.21875 41.5 20.09375 36.953125 \r\nQ 23.96875 32.421875 30.609375 32.421875 \r\nz\r\n\" id=\"DejaVuSans-57\"/>\r\n       </defs>\r\n       <use xlink:href=\"#DejaVuSans-57\"/>\r\n       <use x=\"63.623047\" xlink:href=\"#DejaVuSans-48\"/>\r\n      </g>\r\n     </g>\r\n    </g>\r\n    <g id=\"text_15\">\r\n     <!-- TR -->\r\n     <g transform=\"translate(14.798438 151.248125)rotate(-90)scale(0.1 -0.1)\">\r\n      <defs>\r\n       <path d=\"M -0.296875 72.90625 \r\nL 61.375 72.90625 \r\nL 61.375 64.59375 \r\nL 35.5 64.59375 \r\nL 35.5 0 \r\nL 25.59375 0 \r\nL 25.59375 64.59375 \r\nL -0.296875 64.59375 \r\nz\r\n\" id=\"DejaVuSans-84\"/>\r\n       <path d=\"M 44.390625 34.1875 \r\nQ 47.5625 33.109375 50.5625 29.59375 \r\nQ 53.5625 26.078125 56.59375 19.921875 \r\nL 66.609375 0 \r\nL 56 0 \r\nL 46.6875 18.703125 \r\nQ 43.0625 26.03125 39.671875 28.421875 \r\nQ 36.28125 30.8125 30.421875 30.8125 \r\nL 19.671875 30.8125 \r\nL 19.671875 0 \r\nL 9.8125 0 \r\nL 9.8125 72.90625 \r\nL 32.078125 72.90625 \r\nQ 44.578125 72.90625 50.734375 67.671875 \r\nQ 56.890625 62.453125 56.890625 51.90625 \r\nQ 56.890625 45.015625 53.6875 40.46875 \r\nQ 50.484375 35.9375 44.390625 34.1875 \r\nz\r\nM 19.671875 64.796875 \r\nL 19.671875 38.921875 \r\nL 32.078125 38.921875 \r\nQ 39.203125 38.921875 42.84375 42.21875 \r\nQ 46.484375 45.515625 46.484375 51.90625 \r\nQ 46.484375 58.296875 42.84375 61.546875 \r\nQ 39.203125 64.796875 32.078125 64.796875 \r\nz\r\n\" id=\"DejaVuSans-82\"/>\r\n      </defs>\r\n      <use xlink:href=\"#DejaVuSans-84\"/>\r\n      <use x=\"61.083984\" xlink:href=\"#DejaVuSans-82\"/>\r\n     </g>\r\n    </g>\r\n   </g>\r\n   <g id=\"patch_3\">\r\n    <path d=\"M 40.603125 253.44 \r\nL 40.603125 36 \r\n\" style=\"fill:none;stroke:#000000;stroke-linecap:square;stroke-linejoin:miter;stroke-width:0.8;\"/>\r\n   </g>\r\n   <g id=\"patch_4\">\r\n    <path d=\"M 375.403125 253.44 \r\nL 375.403125 36 \r\n\" style=\"fill:none;stroke:#000000;stroke-linecap:square;stroke-linejoin:miter;stroke-width:0.8;\"/>\r\n   </g>\r\n   <g id=\"patch_5\">\r\n    <path d=\"M 40.603125 253.44 \r\nL 375.403125 253.44 \r\n\" style=\"fill:none;stroke:#000000;stroke-linecap:square;stroke-linejoin:miter;stroke-width:0.8;\"/>\r\n   </g>\r\n   <g id=\"patch_6\">\r\n    <path d=\"M 40.603125 36 \r\nL 375.403125 36 \r\n\" style=\"fill:none;stroke:#000000;stroke-linecap:square;stroke-linejoin:miter;stroke-width:0.8;\"/>\r\n   </g>\r\n   <g id=\"text_16\">\r\n    <!-- OMOPSO-GRNinf -->\r\n    <g transform=\"translate(157.794375 30)scale(0.12 -0.12)\">\r\n     <defs>\r\n      <path d=\"M 39.40625 66.21875 \r\nQ 28.65625 66.21875 22.328125 58.203125 \r\nQ 16.015625 50.203125 16.015625 36.375 \r\nQ 16.015625 22.609375 22.328125 14.59375 \r\nQ 28.65625 6.59375 39.40625 6.59375 \r\nQ 50.140625 6.59375 56.421875 14.59375 \r\nQ 62.703125 22.609375 62.703125 36.375 \r\nQ 62.703125 50.203125 56.421875 58.203125 \r\nQ 50.140625 66.21875 39.40625 66.21875 \r\nz\r\nM 39.40625 74.21875 \r\nQ 54.734375 74.21875 63.90625 63.9375 \r\nQ 73.09375 53.65625 73.09375 36.375 \r\nQ 73.09375 19.140625 63.90625 8.859375 \r\nQ 54.734375 -1.421875 39.40625 -1.421875 \r\nQ 24.03125 -1.421875 14.8125 8.828125 \r\nQ 5.609375 19.09375 5.609375 36.375 \r\nQ 5.609375 53.65625 14.8125 63.9375 \r\nQ 24.03125 74.21875 39.40625 74.21875 \r\nz\r\n\" id=\"DejaVuSans-79\"/>\r\n      <path d=\"M 19.671875 64.796875 \r\nL 19.671875 37.40625 \r\nL 32.078125 37.40625 \r\nQ 38.96875 37.40625 42.71875 40.96875 \r\nQ 46.484375 44.53125 46.484375 51.125 \r\nQ 46.484375 57.671875 42.71875 61.234375 \r\nQ 38.96875 64.796875 32.078125 64.796875 \r\nz\r\nM 9.8125 72.90625 \r\nL 32.078125 72.90625 \r\nQ 44.34375 72.90625 50.609375 67.359375 \r\nQ 56.890625 61.8125 56.890625 51.125 \r\nQ 56.890625 40.328125 50.609375 34.8125 \r\nQ 44.34375 29.296875 32.078125 29.296875 \r\nL 19.671875 29.296875 \r\nL 19.671875 0 \r\nL 9.8125 0 \r\nz\r\n\" id=\"DejaVuSans-80\"/>\r\n      <path d=\"M 4.890625 31.390625 \r\nL 31.203125 31.390625 \r\nL 31.203125 23.390625 \r\nL 4.890625 23.390625 \r\nz\r\n\" id=\"DejaVuSans-45\"/>\r\n      <path d=\"M 59.515625 10.40625 \r\nL 59.515625 29.984375 \r\nL 43.40625 29.984375 \r\nL 43.40625 38.09375 \r\nL 69.28125 38.09375 \r\nL 69.28125 6.78125 \r\nQ 63.578125 2.734375 56.6875 0.65625 \r\nQ 49.8125 -1.421875 42 -1.421875 \r\nQ 24.90625 -1.421875 15.25 8.5625 \r\nQ 5.609375 18.5625 5.609375 36.375 \r\nQ 5.609375 54.25 15.25 64.234375 \r\nQ 24.90625 74.21875 42 74.21875 \r\nQ 49.125 74.21875 55.546875 72.453125 \r\nQ 61.96875 70.703125 67.390625 67.28125 \r\nL 67.390625 56.78125 \r\nQ 61.921875 61.421875 55.765625 63.765625 \r\nQ 49.609375 66.109375 42.828125 66.109375 \r\nQ 29.4375 66.109375 22.71875 58.640625 \r\nQ 16.015625 51.171875 16.015625 36.375 \r\nQ 16.015625 21.625 22.71875 14.15625 \r\nQ 29.4375 6.6875 42.828125 6.6875 \r\nQ 48.046875 6.6875 52.140625 7.59375 \r\nQ 56.25 8.5 59.515625 10.40625 \r\nz\r\n\" id=\"DejaVuSans-71\"/>\r\n      <path d=\"M 9.8125 72.90625 \r\nL 23.09375 72.90625 \r\nL 55.421875 11.921875 \r\nL 55.421875 72.90625 \r\nL 64.984375 72.90625 \r\nL 64.984375 0 \r\nL 51.703125 0 \r\nL 19.390625 60.984375 \r\nL 19.390625 0 \r\nL 9.8125 0 \r\nz\r\n\" id=\"DejaVuSans-78\"/>\r\n      <path d=\"M 9.421875 54.6875 \r\nL 18.40625 54.6875 \r\nL 18.40625 0 \r\nL 9.421875 0 \r\nz\r\nM 9.421875 75.984375 \r\nL 18.40625 75.984375 \r\nL 18.40625 64.59375 \r\nL 9.421875 64.59375 \r\nz\r\n\" id=\"DejaVuSans-105\"/>\r\n      <path d=\"M 54.890625 33.015625 \r\nL 54.890625 0 \r\nL 45.90625 0 \r\nL 45.90625 32.71875 \r\nQ 45.90625 40.484375 42.875 44.328125 \r\nQ 39.84375 48.1875 33.796875 48.1875 \r\nQ 26.515625 48.1875 22.3125 43.546875 \r\nQ 18.109375 38.921875 18.109375 30.90625 \r\nL 18.109375 0 \r\nL 9.078125 0 \r\nL 9.078125 54.6875 \r\nL 18.109375 54.6875 \r\nL 18.109375 46.1875 \r\nQ 21.34375 51.125 25.703125 53.5625 \r\nQ 30.078125 56 35.796875 56 \r\nQ 45.21875 56 50.046875 50.171875 \r\nQ 54.890625 44.34375 54.890625 33.015625 \r\nz\r\n\" id=\"DejaVuSans-110\"/>\r\n      <path d=\"M 37.109375 75.984375 \r\nL 37.109375 68.5 \r\nL 28.515625 68.5 \r\nQ 23.6875 68.5 21.796875 66.546875 \r\nQ 19.921875 64.59375 19.921875 59.515625 \r\nL 19.921875 54.6875 \r\nL 34.71875 54.6875 \r\nL 34.71875 47.703125 \r\nL 19.921875 47.703125 \r\nL 19.921875 0 \r\nL 10.890625 0 \r\nL 10.890625 47.703125 \r\nL 2.296875 47.703125 \r\nL 2.296875 54.6875 \r\nL 10.890625 54.6875 \r\nL 10.890625 58.5 \r\nQ 10.890625 67.625 15.140625 71.796875 \r\nQ 19.390625 75.984375 28.609375 75.984375 \r\nz\r\n\" id=\"DejaVuSans-102\"/>\r\n     </defs>\r\n     <use xlink:href=\"#DejaVuSans-79\"/>\r\n     <use x=\"78.710938\" xlink:href=\"#DejaVuSans-77\"/>\r\n     <use x=\"164.990234\" xlink:href=\"#DejaVuSans-79\"/>\r\n     <use x=\"243.701172\" xlink:href=\"#DejaVuSans-80\"/>\r\n     <use x=\"304.003906\" xlink:href=\"#DejaVuSans-83\"/>\r\n     <use x=\"367.480469\" xlink:href=\"#DejaVuSans-79\"/>\r\n     <use x=\"448.941406\" xlink:href=\"#DejaVuSans-45\"/>\r\n     <use x=\"488.650391\" xlink:href=\"#DejaVuSans-71\"/>\r\n     <use x=\"566.140625\" xlink:href=\"#DejaVuSans-82\"/>\r\n     <use x=\"635.623047\" xlink:href=\"#DejaVuSans-78\"/>\r\n     <use x=\"710.427734\" xlink:href=\"#DejaVuSans-105\"/>\r\n     <use x=\"738.210938\" xlink:href=\"#DejaVuSans-110\"/>\r\n     <use x=\"801.589844\" xlink:href=\"#DejaVuSans-102\"/>\r\n    </g>\r\n   </g>\r\n  </g>\r\n  <g id=\"text_17\">\r\n   <!-- Pareto front approximation -->\r\n   <g transform=\"translate(95.273125 19.3575)scale(0.16 -0.16)\">\r\n    <defs>\r\n     <path d=\"M 34.28125 27.484375 \r\nQ 23.390625 27.484375 19.1875 25 \r\nQ 14.984375 22.515625 14.984375 16.5 \r\nQ 14.984375 11.71875 18.140625 8.90625 \r\nQ 21.296875 6.109375 26.703125 6.109375 \r\nQ 34.1875 6.109375 38.703125 11.40625 \r\nQ 43.21875 16.703125 43.21875 25.484375 \r\nL 43.21875 27.484375 \r\nz\r\nM 52.203125 31.203125 \r\nL 52.203125 0 \r\nL 43.21875 0 \r\nL 43.21875 8.296875 \r\nQ 40.140625 3.328125 35.546875 0.953125 \r\nQ 30.953125 -1.421875 24.3125 -1.421875 \r\nQ 15.921875 -1.421875 10.953125 3.296875 \r\nQ 6 8.015625 6 15.921875 \r\nQ 6 25.140625 12.171875 29.828125 \r\nQ 18.359375 34.515625 30.609375 34.515625 \r\nL 43.21875 34.515625 \r\nL 43.21875 35.40625 \r\nQ 43.21875 41.609375 39.140625 45 \r\nQ 35.0625 48.390625 27.6875 48.390625 \r\nQ 23 48.390625 18.546875 47.265625 \r\nQ 14.109375 46.140625 10.015625 43.890625 \r\nL 10.015625 52.203125 \r\nQ 14.9375 54.109375 19.578125 55.046875 \r\nQ 24.21875 56 28.609375 56 \r\nQ 40.484375 56 46.34375 49.84375 \r\nQ 52.203125 43.703125 52.203125 31.203125 \r\nz\r\n\" id=\"DejaVuSans-97\"/>\r\n     <path d=\"M 41.109375 46.296875 \r\nQ 39.59375 47.171875 37.8125 47.578125 \r\nQ 36.03125 48 33.890625 48 \r\nQ 26.265625 48 22.1875 43.046875 \r\nQ 18.109375 38.09375 18.109375 28.8125 \r\nL 18.109375 0 \r\nL 9.078125 0 \r\nL 9.078125 54.6875 \r\nL 18.109375 54.6875 \r\nL 18.109375 46.1875 \r\nQ 20.953125 51.171875 25.484375 53.578125 \r\nQ 30.03125 56 36.53125 56 \r\nQ 37.453125 56 38.578125 55.875 \r\nQ 39.703125 55.765625 41.0625 55.515625 \r\nz\r\n\" id=\"DejaVuSans-114\"/>\r\n     <path d=\"M 56.203125 29.59375 \r\nL 56.203125 25.203125 \r\nL 14.890625 25.203125 \r\nQ 15.484375 15.921875 20.484375 11.0625 \r\nQ 25.484375 6.203125 34.421875 6.203125 \r\nQ 39.59375 6.203125 44.453125 7.46875 \r\nQ 49.3125 8.734375 54.109375 11.28125 \r\nL 54.109375 2.78125 \r\nQ 49.265625 0.734375 44.1875 -0.34375 \r\nQ 39.109375 -1.421875 33.890625 -1.421875 \r\nQ 20.796875 -1.421875 13.15625 6.1875 \r\nQ 5.515625 13.8125 5.515625 26.8125 \r\nQ 5.515625 40.234375 12.765625 48.109375 \r\nQ 20.015625 56 32.328125 56 \r\nQ 43.359375 56 49.78125 48.890625 \r\nQ 56.203125 41.796875 56.203125 29.59375 \r\nz\r\nM 47.21875 32.234375 \r\nQ 47.125 39.59375 43.09375 43.984375 \r\nQ 39.0625 48.390625 32.421875 48.390625 \r\nQ 24.90625 48.390625 20.390625 44.140625 \r\nQ 15.875 39.890625 15.1875 32.171875 \r\nz\r\n\" id=\"DejaVuSans-101\"/>\r\n     <path d=\"M 18.3125 70.21875 \r\nL 18.3125 54.6875 \r\nL 36.8125 54.6875 \r\nL 36.8125 47.703125 \r\nL 18.3125 47.703125 \r\nL 18.3125 18.015625 \r\nQ 18.3125 11.328125 20.140625 9.421875 \r\nQ 21.96875 7.515625 27.59375 7.515625 \r\nL 36.8125 7.515625 \r\nL 36.8125 0 \r\nL 27.59375 0 \r\nQ 17.1875 0 13.234375 3.875 \r\nQ 9.28125 7.765625 9.28125 18.015625 \r\nL 9.28125 47.703125 \r\nL 2.6875 47.703125 \r\nL 2.6875 54.6875 \r\nL 9.28125 54.6875 \r\nL 9.28125 70.21875 \r\nz\r\n\" id=\"DejaVuSans-116\"/>\r\n     <path d=\"M 30.609375 48.390625 \r\nQ 23.390625 48.390625 19.1875 42.75 \r\nQ 14.984375 37.109375 14.984375 27.296875 \r\nQ 14.984375 17.484375 19.15625 11.84375 \r\nQ 23.34375 6.203125 30.609375 6.203125 \r\nQ 37.796875 6.203125 41.984375 11.859375 \r\nQ 46.1875 17.53125 46.1875 27.296875 \r\nQ 46.1875 37.015625 41.984375 42.703125 \r\nQ 37.796875 48.390625 30.609375 48.390625 \r\nz\r\nM 30.609375 56 \r\nQ 42.328125 56 49.015625 48.375 \r\nQ 55.71875 40.765625 55.71875 27.296875 \r\nQ 55.71875 13.875 49.015625 6.21875 \r\nQ 42.328125 -1.421875 30.609375 -1.421875 \r\nQ 18.84375 -1.421875 12.171875 6.21875 \r\nQ 5.515625 13.875 5.515625 27.296875 \r\nQ 5.515625 40.765625 12.171875 48.375 \r\nQ 18.84375 56 30.609375 56 \r\nz\r\n\" id=\"DejaVuSans-111\"/>\r\n     <path id=\"DejaVuSans-32\"/>\r\n     <path d=\"M 18.109375 8.203125 \r\nL 18.109375 -20.796875 \r\nL 9.078125 -20.796875 \r\nL 9.078125 54.6875 \r\nL 18.109375 54.6875 \r\nL 18.109375 46.390625 \r\nQ 20.953125 51.265625 25.265625 53.625 \r\nQ 29.59375 56 35.59375 56 \r\nQ 45.5625 56 51.78125 48.09375 \r\nQ 58.015625 40.1875 58.015625 27.296875 \r\nQ 58.015625 14.40625 51.78125 6.484375 \r\nQ 45.5625 -1.421875 35.59375 -1.421875 \r\nQ 29.59375 -1.421875 25.265625 0.953125 \r\nQ 20.953125 3.328125 18.109375 8.203125 \r\nz\r\nM 48.6875 27.296875 \r\nQ 48.6875 37.203125 44.609375 42.84375 \r\nQ 40.53125 48.484375 33.40625 48.484375 \r\nQ 26.265625 48.484375 22.1875 42.84375 \r\nQ 18.109375 37.203125 18.109375 27.296875 \r\nQ 18.109375 17.390625 22.1875 11.75 \r\nQ 26.265625 6.109375 33.40625 6.109375 \r\nQ 40.53125 6.109375 44.609375 11.75 \r\nQ 48.6875 17.390625 48.6875 27.296875 \r\nz\r\n\" id=\"DejaVuSans-112\"/>\r\n     <path d=\"M 54.890625 54.6875 \r\nL 35.109375 28.078125 \r\nL 55.90625 0 \r\nL 45.3125 0 \r\nL 29.390625 21.484375 \r\nL 13.484375 0 \r\nL 2.875 0 \r\nL 24.125 28.609375 \r\nL 4.6875 54.6875 \r\nL 15.28125 54.6875 \r\nL 29.78125 35.203125 \r\nL 44.28125 54.6875 \r\nz\r\n\" id=\"DejaVuSans-120\"/>\r\n     <path d=\"M 52 44.1875 \r\nQ 55.375 50.25 60.0625 53.125 \r\nQ 64.75 56 71.09375 56 \r\nQ 79.640625 56 84.28125 50.015625 \r\nQ 88.921875 44.046875 88.921875 33.015625 \r\nL 88.921875 0 \r\nL 79.890625 0 \r\nL 79.890625 32.71875 \r\nQ 79.890625 40.578125 77.09375 44.375 \r\nQ 74.3125 48.1875 68.609375 48.1875 \r\nQ 61.625 48.1875 57.5625 43.546875 \r\nQ 53.515625 38.921875 53.515625 30.90625 \r\nL 53.515625 0 \r\nL 44.484375 0 \r\nL 44.484375 32.71875 \r\nQ 44.484375 40.625 41.703125 44.40625 \r\nQ 38.921875 48.1875 33.109375 48.1875 \r\nQ 26.21875 48.1875 22.15625 43.53125 \r\nQ 18.109375 38.875 18.109375 30.90625 \r\nL 18.109375 0 \r\nL 9.078125 0 \r\nL 9.078125 54.6875 \r\nL 18.109375 54.6875 \r\nL 18.109375 46.1875 \r\nQ 21.1875 51.21875 25.484375 53.609375 \r\nQ 29.78125 56 35.6875 56 \r\nQ 41.65625 56 45.828125 52.96875 \r\nQ 50 49.953125 52 44.1875 \r\nz\r\n\" id=\"DejaVuSans-109\"/>\r\n    </defs>\r\n    <use xlink:href=\"#DejaVuSans-80\"/>\r\n    <use x=\"55.802734\" xlink:href=\"#DejaVuSans-97\"/>\r\n    <use x=\"117.082031\" xlink:href=\"#DejaVuSans-114\"/>\r\n    <use x=\"155.945312\" xlink:href=\"#DejaVuSans-101\"/>\r\n    <use x=\"217.46875\" xlink:href=\"#DejaVuSans-116\"/>\r\n    <use x=\"256.677734\" xlink:href=\"#DejaVuSans-111\"/>\r\n    <use x=\"317.859375\" xlink:href=\"#DejaVuSans-32\"/>\r\n    <use x=\"349.646484\" xlink:href=\"#DejaVuSans-102\"/>\r\n    <use x=\"384.851562\" xlink:href=\"#DejaVuSans-114\"/>\r\n    <use x=\"423.714844\" xlink:href=\"#DejaVuSans-111\"/>\r\n    <use x=\"484.896484\" xlink:href=\"#DejaVuSans-110\"/>\r\n    <use x=\"548.275391\" xlink:href=\"#DejaVuSans-116\"/>\r\n    <use x=\"587.484375\" xlink:href=\"#DejaVuSans-32\"/>\r\n    <use x=\"619.271484\" xlink:href=\"#DejaVuSans-97\"/>\r\n    <use x=\"680.550781\" xlink:href=\"#DejaVuSans-112\"/>\r\n    <use x=\"744.027344\" xlink:href=\"#DejaVuSans-112\"/>\r\n    <use x=\"807.503906\" xlink:href=\"#DejaVuSans-114\"/>\r\n    <use x=\"846.367188\" xlink:href=\"#DejaVuSans-111\"/>\r\n    <use x=\"904.423828\" xlink:href=\"#DejaVuSans-120\"/>\r\n    <use x=\"963.603516\" xlink:href=\"#DejaVuSans-105\"/>\r\n    <use x=\"991.386719\" xlink:href=\"#DejaVuSans-109\"/>\r\n    <use x=\"1088.798828\" xlink:href=\"#DejaVuSans-97\"/>\r\n    <use x=\"1150.078125\" xlink:href=\"#DejaVuSans-116\"/>\r\n    <use x=\"1189.287109\" xlink:href=\"#DejaVuSans-105\"/>\r\n    <use x=\"1217.070312\" xlink:href=\"#DejaVuSans-111\"/>\r\n    <use x=\"1278.251953\" xlink:href=\"#DejaVuSans-110\"/>\r\n   </g>\r\n  </g>\r\n </g>\r\n <defs>\r\n  <clipPath id=\"pfa0a8a04cb\">\r\n   <rect height=\"217.44\" width=\"334.8\" x=\"40.603125\" y=\"36\"/>\r\n  </clipPath>\r\n </defs>\r\n</svg>\r\n",
      "image/png": "[encoded data removed]"
     },
     "metadata": {
      "needs_background": "light"
     }
    },
    {
     "output_type": "stream",
     "name": "stdout",
     "text": [
      "++++++\nObjective Values\n[0.25361205373466245, 70.1666299667514]\n[0.2746151438139823, 50.32134787637159]\n[0.2605452001701908, 59.894675452968286]\n[0.24602223944127988, 82.2483607943446]\n[0.28675927193346745, 45.791387285834276]\n[0.32563136303610274, 42.6650946590278]\n[0.2363039420075221, 91.04536226425503]\n[0.5190994972830921, 30.14941020134438]\n[0.30222157649875797, 44.79256414853676]\n[0.4048815654837988, 37.18421514601896]\n[0.4121948285336634, 35.021639566957646]\n[0.3499524695084365, 41.81307069550012]\n[0.4714409479058524, 31.703518057819288]\n[0.46319193214346943, 32.045742146764155]\n[0.269081432410286, 51.28963995734626]\n[0.4156860549651518, 33.72216526977223]\n[0.3093358036529796, 43.58336392534462]\n[0.35888990590917325, 37.59329979862362]\n[0.27942468111766355, 48.068083735044304]\n[0.3380823518091243, 42.29873876076486]\n"
     ]
    }
   ],
   "source": [
    "SS_front = get_non_dominated_solutions(SS_solutions)\n",
    "\n",
    "plot_front = Plot(title='Pareto front approximation', axis_labels=['MSE', 'TR'])\n",
    "plot_front.plot(SS_front, label='OMOPSO-GRNinf')\n",
    "\n",
    "#print fitness values of non-dominated solutions in the pareto front \n",
    "print(\"++++++\")\n",
    "print(\"Objective Values\")\n",
    "\n",
    "for sol in SS_front:\n",
    "    print(sol.objectives)"
   ]
  },
  {
   "source": [
    "## Calculating Average Performance over all solutions\n",
    "\n",
    "Using confusion matrix metrics"
   ],
   "cell_type": "markdown",
   "metadata": {}
  },
  {
   "cell_type": "code",
   "execution_count": 73,
   "metadata": {},
   "outputs": [
    {
     "output_type": "execute_result",
     "data": {
      "text/plain": [
       "{'TP': 6.2,\n",
       " 'FP': 21.9,\n",
       " 'TN': 33.1,\n",
       " 'FN': 2.8,\n",
       " 'TPR': 0.6888888888888888,\n",
       " 'FPR': 0.39818181818181814,\n",
       " 'TNR': 0.6018181818181818,\n",
       " 'PPV': 0.22109303157673899,\n",
       " 'ACC': 0.6140625,\n",
       " 'Fscore': 0.3341209973865312,\n",
       " 'Predicted Edges': 28.1}"
      ]
     },
     "metadata": {},
     "execution_count": 73
    }
   ],
   "source": [
    "calculateAverageResults(SS_front, filepath, filenameActual, prob = \"SS\")"
   ]
  },
  {
   "source": [
    "## Execute the Half-System Optimization"
   ],
   "cell_type": "markdown",
   "metadata": {}
  },
  {
   "cell_type": "code",
   "execution_count": 78,
   "metadata": {},
   "outputs": [],
   "source": [
    "problem = GRNinfHS(number_of_genes = 8, extra_vars = 2, timepoints = timepoints, actualExpressionGeneInd = actualExpressionGeneInd, actualExpressionTimeInd = actualExpressionTimeInd, constr = True)\n",
    "\n",
    "max_evaluations = 10000\n",
    "swarm_size = 100\n",
    "mutation_probability = (swarm_size / 3) / 100\n",
    "\n",
    "algorithm = OMOPSO(\n",
    "    problem=problem,\n",
    "    swarm_size=swarm_size,\n",
    "    epsilon=0.0075,\n",
    "    uniform_mutation=UniformMutation(probability=mutation_probability, perturbation=0.5),\n",
    "    non_uniform_mutation=NonUniformMutation(mutation_probability, perturbation=0.5,\n",
    "                                            max_iterations=int(max_evaluations / swarm_size)),\n",
    "    leaders=CrowdingDistanceArchive(100),\n",
    "    termination_criterion=StoppingByEvaluations(max_evaluations)\n",
    ")\n",
    "\n",
    "algorithm.run()\n",
    "HS_solutions = algorithm.get_result()"
   ]
  },
  {
   "source": [
    "## Visualize the Pareto Front"
   ],
   "cell_type": "markdown",
   "metadata": {}
  },
  {
   "cell_type": "code",
   "execution_count": 79,
   "metadata": {},
   "outputs": [
    {
     "output_type": "display_data",
     "data": {
      "text/plain": "<Figure size 432x288 with 1 Axes>",
      "image/svg+xml": "<?xml version=\"1.0\" encoding=\"utf-8\" standalone=\"no\"?>\r\n<!DOCTYPE svg PUBLIC \"-//W3C//DTD SVG 1.1//EN\"\r\n  \"http://www.w3.org/Graphics/SVG/1.1/DTD/svg11.dtd\">\r\n<!-- Created with matplotlib (https://matplotlib.org/) -->\r\n<svg height=\"290.99625pt\" version=\"1.1\" viewBox=\"0 0 385.78125 290.99625\" width=\"385.78125pt\" xmlns=\"http://www.w3.org/2000/svg\" xmlns:xlink=\"http://www.w3.org/1999/xlink\">\r\n <metadata>\r\n  <rdf:RDF xmlns:cc=\"http://creativecommons.org/ns#\" xmlns:dc=\"http://purl.org/dc/elements/1.1/\" xmlns:rdf=\"http://www.w3.org/1999/02/22-rdf-syntax-ns#\">\r\n   <cc:Work>\r\n    <dc:type rdf:resource=\"http://purl.org/dc/dcmitype/StillImage\"/>\r\n    <dc:date>2021-06-12T18:56:11.377959</dc:date>\r\n    <dc:format>image/svg+xml</dc:format>\r\n    <dc:creator>\r\n     <cc:Agent>\r\n      <dc:title>Matplotlib v3.3.4, https://matplotlib.org/</dc:title>\r\n     </cc:Agent>\r\n    </dc:creator>\r\n   </cc:Work>\r\n  </rdf:RDF>\r\n </metadata>\r\n <defs>\r\n  <style type=\"text/css\">*{stroke-linecap:butt;stroke-linejoin:round;}</style>\r\n </defs>\r\n <g id=\"figure_1\">\r\n  <g id=\"patch_1\">\r\n   <path d=\"M 0 290.99625 \r\nL 385.78125 290.99625 \r\nL 385.78125 0 \r\nL 0 0 \r\nz\r\n\" style=\"fill:none;\"/>\r\n  </g>\r\n  <g id=\"axes_1\">\r\n   <g id=\"patch_2\">\r\n    <path d=\"M 43.78125 253.44 \r\nL 378.58125 253.44 \r\nL 378.58125 36 \r\nL 43.78125 36 \r\nz\r\n\" style=\"fill:#ffffff;\"/>\r\n   </g>\r\n   <g id=\"PathCollection_1\">\r\n    <defs>\r\n     <path d=\"M 0 1.581139 \r\nC 0.419323 1.581139 0.821528 1.41454 1.118034 1.118034 \r\nC 1.41454 0.821528 1.581139 0.419323 1.581139 0 \r\nC 1.581139 -0.419323 1.41454 -0.821528 1.118034 -1.118034 \r\nC 0.821528 -1.41454 0.419323 -1.581139 0 -1.581139 \r\nC -0.419323 -1.581139 -0.821528 -1.41454 -1.118034 -1.118034 \r\nC -1.41454 -0.821528 -1.581139 -0.419323 -1.581139 0 \r\nC -1.581139 0.419323 -1.41454 0.821528 -1.118034 1.118034 \r\nC -0.821528 1.41454 -0.419323 1.581139 0 1.581139 \r\nz\r\n\" id=\"maf7f842196\" style=\"stroke:#236fa4;\"/>\r\n    </defs>\r\n    <g clip-path=\"url(#p6631221418)\">\r\n     <use style=\"fill:#236fa4;stroke:#236fa4;\" x=\"66.918476\" xlink:href=\"#maf7f842196\" y=\"162.823127\"/>\r\n     <use style=\"fill:#236fa4;stroke:#236fa4;\" x=\"363.363068\" xlink:href=\"#maf7f842196\" y=\"243.556364\"/>\r\n     <use style=\"fill:#236fa4;stroke:#236fa4;\" x=\"116.274534\" xlink:href=\"#maf7f842196\" y=\"216.011562\"/>\r\n     <use style=\"fill:#236fa4;stroke:#236fa4;\" x=\"59.017641\" xlink:href=\"#maf7f842196\" y=\"83.172553\"/>\r\n     <use style=\"fill:#236fa4;stroke:#236fa4;\" x=\"59.166122\" xlink:href=\"#maf7f842196\" y=\"141.824629\"/>\r\n     <use style=\"fill:#236fa4;stroke:#236fa4;\" x=\"67.57403\" xlink:href=\"#maf7f842196\" y=\"167.623706\"/>\r\n     <use style=\"fill:#236fa4;stroke:#236fa4;\" x=\"58.999432\" xlink:href=\"#maf7f842196\" y=\"45.883636\"/>\r\n     <use style=\"fill:#236fa4;stroke:#236fa4;\" x=\"220.257076\" xlink:href=\"#maf7f842196\" y=\"222.989155\"/>\r\n     <use style=\"fill:#236fa4;stroke:#236fa4;\" x=\"82.464541\" xlink:href=\"#maf7f842196\" y=\"187.518615\"/>\r\n     <use style=\"fill:#236fa4;stroke:#236fa4;\" x=\"71.713931\" xlink:href=\"#maf7f842196\" y=\"180.221268\"/>\r\n     <use style=\"fill:#236fa4;stroke:#236fa4;\" x=\"71.906562\" xlink:href=\"#maf7f842196\" y=\"185.593411\"/>\r\n     <use style=\"fill:#236fa4;stroke:#236fa4;\" x=\"59.035132\" xlink:href=\"#maf7f842196\" y=\"104.231784\"/>\r\n     <use style=\"fill:#236fa4;stroke:#236fa4;\" x=\"83.654661\" xlink:href=\"#maf7f842196\" y=\"202.045078\"/>\r\n     <use style=\"fill:#236fa4;stroke:#236fa4;\" x=\"93.261355\" xlink:href=\"#maf7f842196\" y=\"210.797652\"/>\r\n     <use style=\"fill:#236fa4;stroke:#236fa4;\" x=\"60.255584\" xlink:href=\"#maf7f842196\" y=\"162.09233\"/>\r\n     <use style=\"fill:#236fa4;stroke:#236fa4;\" x=\"59.055694\" xlink:href=\"#maf7f842196\" y=\"135.808343\"/>\r\n     <use style=\"fill:#236fa4;stroke:#236fa4;\" x=\"59.223315\" xlink:href=\"#maf7f842196\" y=\"146.881562\"/>\r\n     <use style=\"fill:#236fa4;stroke:#236fa4;\" x=\"59.575998\" xlink:href=\"#maf7f842196\" y=\"160.180045\"/>\r\n     <use style=\"fill:#236fa4;stroke:#236fa4;\" x=\"180.070378\" xlink:href=\"#maf7f842196\" y=\"222.719239\"/>\r\n     <use style=\"fill:#236fa4;stroke:#236fa4;\" x=\"59.364084\" xlink:href=\"#maf7f842196\" y=\"147.848795\"/>\r\n    </g>\r\n   </g>\r\n   <g id=\"matplotlib.axis_1\">\r\n    <g id=\"xtick_1\">\r\n     <g id=\"line2d_1\">\r\n      <defs>\r\n       <path d=\"M 0 0 \r\nL 0 3.5 \r\n\" id=\"md58b82bab1\" style=\"stroke:#000000;stroke-width:0.8;\"/>\r\n      </defs>\r\n      <g>\r\n       <use style=\"stroke:#000000;stroke-width:0.8;\" x=\"58.516834\" xlink:href=\"#md58b82bab1\" y=\"253.44\"/>\r\n      </g>\r\n     </g>\r\n     <g id=\"text_1\">\r\n      <!-- 0 -->\r\n      <g transform=\"translate(55.335584 268.038437)scale(0.1 -0.1)\">\r\n       <defs>\r\n        <path d=\"M 31.78125 66.40625 \r\nQ 24.171875 66.40625 20.328125 58.90625 \r\nQ 16.5 51.421875 16.5 36.375 \r\nQ 16.5 21.390625 20.328125 13.890625 \r\nQ 24.171875 6.390625 31.78125 6.390625 \r\nQ 39.453125 6.390625 43.28125 13.890625 \r\nQ 47.125 21.390625 47.125 36.375 \r\nQ 47.125 51.421875 43.28125 58.90625 \r\nQ 39.453125 66.40625 31.78125 66.40625 \r\nz\r\nM 31.78125 74.21875 \r\nQ 44.046875 74.21875 50.515625 64.515625 \r\nQ 56.984375 54.828125 56.984375 36.375 \r\nQ 56.984375 17.96875 50.515625 8.265625 \r\nQ 44.046875 -1.421875 31.78125 -1.421875 \r\nQ 19.53125 -1.421875 13.0625 8.265625 \r\nQ 6.59375 17.96875 6.59375 36.375 \r\nQ 6.59375 54.828125 13.0625 64.515625 \r\nQ 19.53125 74.21875 31.78125 74.21875 \r\nz\r\n\" id=\"DejaVuSans-48\"/>\r\n       </defs>\r\n       <use xlink:href=\"#DejaVuSans-48\"/>\r\n      </g>\r\n     </g>\r\n    </g>\r\n    <g id=\"xtick_2\">\r\n     <g id=\"line2d_2\">\r\n      <g>\r\n       <use style=\"stroke:#000000;stroke-width:0.8;\" x=\"106.61644\" xlink:href=\"#md58b82bab1\" y=\"253.44\"/>\r\n      </g>\r\n     </g>\r\n     <g id=\"text_2\">\r\n      <!-- 20 -->\r\n      <g transform=\"translate(100.25394 268.038437)scale(0.1 -0.1)\">\r\n       <defs>\r\n        <path d=\"M 19.1875 8.296875 \r\nL 53.609375 8.296875 \r\nL 53.609375 0 \r\nL 7.328125 0 \r\nL 7.328125 8.296875 \r\nQ 12.9375 14.109375 22.625 23.890625 \r\nQ 32.328125 33.6875 34.8125 36.53125 \r\nQ 39.546875 41.84375 41.421875 45.53125 \r\nQ 43.3125 49.21875 43.3125 52.78125 \r\nQ 43.3125 58.59375 39.234375 62.25 \r\nQ 35.15625 65.921875 28.609375 65.921875 \r\nQ 23.96875 65.921875 18.8125 64.3125 \r\nQ 13.671875 62.703125 7.8125 59.421875 \r\nL 7.8125 69.390625 \r\nQ 13.765625 71.78125 18.9375 73 \r\nQ 24.125 74.21875 28.421875 74.21875 \r\nQ 39.75 74.21875 46.484375 68.546875 \r\nQ 53.21875 62.890625 53.21875 53.421875 \r\nQ 53.21875 48.921875 51.53125 44.890625 \r\nQ 49.859375 40.875 45.40625 35.40625 \r\nQ 44.1875 33.984375 37.640625 27.21875 \r\nQ 31.109375 20.453125 19.1875 8.296875 \r\nz\r\n\" id=\"DejaVuSans-50\"/>\r\n       </defs>\r\n       <use xlink:href=\"#DejaVuSans-50\"/>\r\n       <use x=\"63.623047\" xlink:href=\"#DejaVuSans-48\"/>\r\n      </g>\r\n     </g>\r\n    </g>\r\n    <g id=\"xtick_3\">\r\n     <g id=\"line2d_3\">\r\n      <g>\r\n       <use style=\"stroke:#000000;stroke-width:0.8;\" x=\"154.716045\" xlink:href=\"#md58b82bab1\" y=\"253.44\"/>\r\n      </g>\r\n     </g>\r\n     <g id=\"text_3\">\r\n      <!-- 40 -->\r\n      <g transform=\"translate(148.353545 268.038437)scale(0.1 -0.1)\">\r\n       <defs>\r\n        <path d=\"M 37.796875 64.3125 \r\nL 12.890625 25.390625 \r\nL 37.796875 25.390625 \r\nz\r\nM 35.203125 72.90625 \r\nL 47.609375 72.90625 \r\nL 47.609375 25.390625 \r\nL 58.015625 25.390625 \r\nL 58.015625 17.1875 \r\nL 47.609375 17.1875 \r\nL 47.609375 0 \r\nL 37.796875 0 \r\nL 37.796875 17.1875 \r\nL 4.890625 17.1875 \r\nL 4.890625 26.703125 \r\nz\r\n\" id=\"DejaVuSans-52\"/>\r\n       </defs>\r\n       <use xlink:href=\"#DejaVuSans-52\"/>\r\n       <use x=\"63.623047\" xlink:href=\"#DejaVuSans-48\"/>\r\n      </g>\r\n     </g>\r\n    </g>\r\n    <g id=\"xtick_4\">\r\n     <g id=\"line2d_4\">\r\n      <g>\r\n       <use style=\"stroke:#000000;stroke-width:0.8;\" x=\"202.81565\" xlink:href=\"#md58b82bab1\" y=\"253.44\"/>\r\n      </g>\r\n     </g>\r\n     <g id=\"text_4\">\r\n      <!-- 60 -->\r\n      <g transform=\"translate(196.45315 268.038437)scale(0.1 -0.1)\">\r\n       <defs>\r\n        <path d=\"M 33.015625 40.375 \r\nQ 26.375 40.375 22.484375 35.828125 \r\nQ 18.609375 31.296875 18.609375 23.390625 \r\nQ 18.609375 15.53125 22.484375 10.953125 \r\nQ 26.375 6.390625 33.015625 6.390625 \r\nQ 39.65625 6.390625 43.53125 10.953125 \r\nQ 47.40625 15.53125 47.40625 23.390625 \r\nQ 47.40625 31.296875 43.53125 35.828125 \r\nQ 39.65625 40.375 33.015625 40.375 \r\nz\r\nM 52.59375 71.296875 \r\nL 52.59375 62.3125 \r\nQ 48.875 64.0625 45.09375 64.984375 \r\nQ 41.3125 65.921875 37.59375 65.921875 \r\nQ 27.828125 65.921875 22.671875 59.328125 \r\nQ 17.53125 52.734375 16.796875 39.40625 \r\nQ 19.671875 43.65625 24.015625 45.921875 \r\nQ 28.375 48.1875 33.59375 48.1875 \r\nQ 44.578125 48.1875 50.953125 41.515625 \r\nQ 57.328125 34.859375 57.328125 23.390625 \r\nQ 57.328125 12.15625 50.6875 5.359375 \r\nQ 44.046875 -1.421875 33.015625 -1.421875 \r\nQ 20.359375 -1.421875 13.671875 8.265625 \r\nQ 6.984375 17.96875 6.984375 36.375 \r\nQ 6.984375 53.65625 15.1875 63.9375 \r\nQ 23.390625 74.21875 37.203125 74.21875 \r\nQ 40.921875 74.21875 44.703125 73.484375 \r\nQ 48.484375 72.75 52.59375 71.296875 \r\nz\r\n\" id=\"DejaVuSans-54\"/>\r\n       </defs>\r\n       <use xlink:href=\"#DejaVuSans-54\"/>\r\n       <use x=\"63.623047\" xlink:href=\"#DejaVuSans-48\"/>\r\n      </g>\r\n     </g>\r\n    </g>\r\n    <g id=\"xtick_5\">\r\n     <g id=\"line2d_5\">\r\n      <g>\r\n       <use style=\"stroke:#000000;stroke-width:0.8;\" x=\"250.915255\" xlink:href=\"#md58b82bab1\" y=\"253.44\"/>\r\n      </g>\r\n     </g>\r\n     <g id=\"text_5\">\r\n      <!-- 80 -->\r\n      <g transform=\"translate(244.552755 268.038437)scale(0.1 -0.1)\">\r\n       <defs>\r\n        <path d=\"M 31.78125 34.625 \r\nQ 24.75 34.625 20.71875 30.859375 \r\nQ 16.703125 27.09375 16.703125 20.515625 \r\nQ 16.703125 13.921875 20.71875 10.15625 \r\nQ 24.75 6.390625 31.78125 6.390625 \r\nQ 38.8125 6.390625 42.859375 10.171875 \r\nQ 46.921875 13.96875 46.921875 20.515625 \r\nQ 46.921875 27.09375 42.890625 30.859375 \r\nQ 38.875 34.625 31.78125 34.625 \r\nz\r\nM 21.921875 38.8125 \r\nQ 15.578125 40.375 12.03125 44.71875 \r\nQ 8.5 49.078125 8.5 55.328125 \r\nQ 8.5 64.0625 14.71875 69.140625 \r\nQ 20.953125 74.21875 31.78125 74.21875 \r\nQ 42.671875 74.21875 48.875 69.140625 \r\nQ 55.078125 64.0625 55.078125 55.328125 \r\nQ 55.078125 49.078125 51.53125 44.71875 \r\nQ 48 40.375 41.703125 38.8125 \r\nQ 48.828125 37.15625 52.796875 32.3125 \r\nQ 56.78125 27.484375 56.78125 20.515625 \r\nQ 56.78125 9.90625 50.3125 4.234375 \r\nQ 43.84375 -1.421875 31.78125 -1.421875 \r\nQ 19.734375 -1.421875 13.25 4.234375 \r\nQ 6.78125 9.90625 6.78125 20.515625 \r\nQ 6.78125 27.484375 10.78125 32.3125 \r\nQ 14.796875 37.15625 21.921875 38.8125 \r\nz\r\nM 18.3125 54.390625 \r\nQ 18.3125 48.734375 21.84375 45.5625 \r\nQ 25.390625 42.390625 31.78125 42.390625 \r\nQ 38.140625 42.390625 41.71875 45.5625 \r\nQ 45.3125 48.734375 45.3125 54.390625 \r\nQ 45.3125 60.0625 41.71875 63.234375 \r\nQ 38.140625 66.40625 31.78125 66.40625 \r\nQ 25.390625 66.40625 21.84375 63.234375 \r\nQ 18.3125 60.0625 18.3125 54.390625 \r\nz\r\n\" id=\"DejaVuSans-56\"/>\r\n       </defs>\r\n       <use xlink:href=\"#DejaVuSans-56\"/>\r\n       <use x=\"63.623047\" xlink:href=\"#DejaVuSans-48\"/>\r\n      </g>\r\n     </g>\r\n    </g>\r\n    <g id=\"xtick_6\">\r\n     <g id=\"line2d_6\">\r\n      <g>\r\n       <use style=\"stroke:#000000;stroke-width:0.8;\" x=\"299.01486\" xlink:href=\"#md58b82bab1\" y=\"253.44\"/>\r\n      </g>\r\n     </g>\r\n     <g id=\"text_6\">\r\n      <!-- 100 -->\r\n      <g transform=\"translate(289.47111 268.038437)scale(0.1 -0.1)\">\r\n       <defs>\r\n        <path d=\"M 12.40625 8.296875 \r\nL 28.515625 8.296875 \r\nL 28.515625 63.921875 \r\nL 10.984375 60.40625 \r\nL 10.984375 69.390625 \r\nL 28.421875 72.90625 \r\nL 38.28125 72.90625 \r\nL 38.28125 8.296875 \r\nL 54.390625 8.296875 \r\nL 54.390625 0 \r\nL 12.40625 0 \r\nz\r\n\" id=\"DejaVuSans-49\"/>\r\n       </defs>\r\n       <use xlink:href=\"#DejaVuSans-49\"/>\r\n       <use x=\"63.623047\" xlink:href=\"#DejaVuSans-48\"/>\r\n       <use x=\"127.246094\" xlink:href=\"#DejaVuSans-48\"/>\r\n      </g>\r\n     </g>\r\n    </g>\r\n    <g id=\"xtick_7\">\r\n     <g id=\"line2d_7\">\r\n      <g>\r\n       <use style=\"stroke:#000000;stroke-width:0.8;\" x=\"347.114465\" xlink:href=\"#md58b82bab1\" y=\"253.44\"/>\r\n      </g>\r\n     </g>\r\n     <g id=\"text_7\">\r\n      <!-- 120 -->\r\n      <g transform=\"translate(337.570715 268.038437)scale(0.1 -0.1)\">\r\n       <use xlink:href=\"#DejaVuSans-49\"/>\r\n       <use x=\"63.623047\" xlink:href=\"#DejaVuSans-50\"/>\r\n       <use x=\"127.246094\" xlink:href=\"#DejaVuSans-48\"/>\r\n      </g>\r\n     </g>\r\n    </g>\r\n    <g id=\"text_8\">\r\n     <!-- MSE -->\r\n     <g transform=\"translate(200.533594 281.716562)scale(0.1 -0.1)\">\r\n      <defs>\r\n       <path d=\"M 9.8125 72.90625 \r\nL 24.515625 72.90625 \r\nL 43.109375 23.296875 \r\nL 61.8125 72.90625 \r\nL 76.515625 72.90625 \r\nL 76.515625 0 \r\nL 66.890625 0 \r\nL 66.890625 64.015625 \r\nL 48.09375 14.015625 \r\nL 38.1875 14.015625 \r\nL 19.390625 64.015625 \r\nL 19.390625 0 \r\nL 9.8125 0 \r\nz\r\n\" id=\"DejaVuSans-77\"/>\r\n       <path d=\"M 53.515625 70.515625 \r\nL 53.515625 60.890625 \r\nQ 47.90625 63.578125 42.921875 64.890625 \r\nQ 37.9375 66.21875 33.296875 66.21875 \r\nQ 25.25 66.21875 20.875 63.09375 \r\nQ 16.5 59.96875 16.5 54.203125 \r\nQ 16.5 49.359375 19.40625 46.890625 \r\nQ 22.3125 44.4375 30.421875 42.921875 \r\nL 36.375 41.703125 \r\nQ 47.40625 39.59375 52.65625 34.296875 \r\nQ 57.90625 29 57.90625 20.125 \r\nQ 57.90625 9.515625 50.796875 4.046875 \r\nQ 43.703125 -1.421875 29.984375 -1.421875 \r\nQ 24.8125 -1.421875 18.96875 -0.25 \r\nQ 13.140625 0.921875 6.890625 3.21875 \r\nL 6.890625 13.375 \r\nQ 12.890625 10.015625 18.65625 8.296875 \r\nQ 24.421875 6.59375 29.984375 6.59375 \r\nQ 38.421875 6.59375 43.015625 9.90625 \r\nQ 47.609375 13.234375 47.609375 19.390625 \r\nQ 47.609375 24.75 44.3125 27.78125 \r\nQ 41.015625 30.8125 33.5 32.328125 \r\nL 27.484375 33.5 \r\nQ 16.453125 35.6875 11.515625 40.375 \r\nQ 6.59375 45.0625 6.59375 53.421875 \r\nQ 6.59375 63.09375 13.40625 68.65625 \r\nQ 20.21875 74.21875 32.171875 74.21875 \r\nQ 37.3125 74.21875 42.625 73.28125 \r\nQ 47.953125 72.359375 53.515625 70.515625 \r\nz\r\n\" id=\"DejaVuSans-83\"/>\r\n       <path d=\"M 9.8125 72.90625 \r\nL 55.90625 72.90625 \r\nL 55.90625 64.59375 \r\nL 19.671875 64.59375 \r\nL 19.671875 43.015625 \r\nL 54.390625 43.015625 \r\nL 54.390625 34.71875 \r\nL 19.671875 34.71875 \r\nL 19.671875 8.296875 \r\nL 56.78125 8.296875 \r\nL 56.78125 0 \r\nL 9.8125 0 \r\nz\r\n\" id=\"DejaVuSans-69\"/>\r\n      </defs>\r\n      <use xlink:href=\"#DejaVuSans-77\"/>\r\n      <use x=\"86.279297\" xlink:href=\"#DejaVuSans-83\"/>\r\n      <use x=\"149.755859\" xlink:href=\"#DejaVuSans-69\"/>\r\n     </g>\r\n    </g>\r\n   </g>\r\n   <g id=\"matplotlib.axis_2\">\r\n    <g id=\"ytick_1\">\r\n     <g id=\"line2d_8\">\r\n      <defs>\r\n       <path d=\"M 0 0 \r\nL -3.5 0 \r\n\" id=\"mf16e30a5c6\" style=\"stroke:#000000;stroke-width:0.8;\"/>\r\n      </defs>\r\n      <g>\r\n       <use style=\"stroke:#000000;stroke-width:0.8;\" x=\"43.78125\" xlink:href=\"#mf16e30a5c6\" y=\"243.602047\"/>\r\n      </g>\r\n     </g>\r\n     <g id=\"text_9\">\r\n      <!-- 2.5 -->\r\n      <g transform=\"translate(20.878125 247.401265)scale(0.1 -0.1)\">\r\n       <defs>\r\n        <path d=\"M 10.6875 12.40625 \r\nL 21 12.40625 \r\nL 21 0 \r\nL 10.6875 0 \r\nz\r\n\" id=\"DejaVuSans-46\"/>\r\n        <path d=\"M 10.796875 72.90625 \r\nL 49.515625 72.90625 \r\nL 49.515625 64.59375 \r\nL 19.828125 64.59375 \r\nL 19.828125 46.734375 \r\nQ 21.96875 47.46875 24.109375 47.828125 \r\nQ 26.265625 48.1875 28.421875 48.1875 \r\nQ 40.625 48.1875 47.75 41.5 \r\nQ 54.890625 34.8125 54.890625 23.390625 \r\nQ 54.890625 11.625 47.5625 5.09375 \r\nQ 40.234375 -1.421875 26.90625 -1.421875 \r\nQ 22.3125 -1.421875 17.546875 -0.640625 \r\nQ 12.796875 0.140625 7.71875 1.703125 \r\nL 7.71875 11.625 \r\nQ 12.109375 9.234375 16.796875 8.0625 \r\nQ 21.484375 6.890625 26.703125 6.890625 \r\nQ 35.15625 6.890625 40.078125 11.328125 \r\nQ 45.015625 15.765625 45.015625 23.390625 \r\nQ 45.015625 31 40.078125 35.4375 \r\nQ 35.15625 39.890625 26.703125 39.890625 \r\nQ 22.75 39.890625 18.8125 39.015625 \r\nQ 14.890625 38.140625 10.796875 36.28125 \r\nz\r\n\" id=\"DejaVuSans-53\"/>\r\n       </defs>\r\n       <use xlink:href=\"#DejaVuSans-50\"/>\r\n       <use x=\"63.623047\" xlink:href=\"#DejaVuSans-46\"/>\r\n       <use x=\"95.410156\" xlink:href=\"#DejaVuSans-53\"/>\r\n      </g>\r\n     </g>\r\n    </g>\r\n    <g id=\"ytick_2\">\r\n     <g id=\"line2d_9\">\r\n      <g>\r\n       <use style=\"stroke:#000000;stroke-width:0.8;\" x=\"43.78125\" xlink:href=\"#mf16e30a5c6\" y=\"218.898843\"/>\r\n      </g>\r\n     </g>\r\n     <g id=\"text_10\">\r\n      <!-- 3.0 -->\r\n      <g transform=\"translate(20.878125 222.698062)scale(0.1 -0.1)\">\r\n       <defs>\r\n        <path d=\"M 40.578125 39.3125 \r\nQ 47.65625 37.796875 51.625 33 \r\nQ 55.609375 28.21875 55.609375 21.1875 \r\nQ 55.609375 10.40625 48.1875 4.484375 \r\nQ 40.765625 -1.421875 27.09375 -1.421875 \r\nQ 22.515625 -1.421875 17.65625 -0.515625 \r\nQ 12.796875 0.390625 7.625 2.203125 \r\nL 7.625 11.71875 \r\nQ 11.71875 9.328125 16.59375 8.109375 \r\nQ 21.484375 6.890625 26.8125 6.890625 \r\nQ 36.078125 6.890625 40.9375 10.546875 \r\nQ 45.796875 14.203125 45.796875 21.1875 \r\nQ 45.796875 27.640625 41.28125 31.265625 \r\nQ 36.765625 34.90625 28.71875 34.90625 \r\nL 20.21875 34.90625 \r\nL 20.21875 43.015625 \r\nL 29.109375 43.015625 \r\nQ 36.375 43.015625 40.234375 45.921875 \r\nQ 44.09375 48.828125 44.09375 54.296875 \r\nQ 44.09375 59.90625 40.109375 62.90625 \r\nQ 36.140625 65.921875 28.71875 65.921875 \r\nQ 24.65625 65.921875 20.015625 65.03125 \r\nQ 15.375 64.15625 9.8125 62.3125 \r\nL 9.8125 71.09375 \r\nQ 15.4375 72.65625 20.34375 73.4375 \r\nQ 25.25 74.21875 29.59375 74.21875 \r\nQ 40.828125 74.21875 47.359375 69.109375 \r\nQ 53.90625 64.015625 53.90625 55.328125 \r\nQ 53.90625 49.265625 50.4375 45.09375 \r\nQ 46.96875 40.921875 40.578125 39.3125 \r\nz\r\n\" id=\"DejaVuSans-51\"/>\r\n       </defs>\r\n       <use xlink:href=\"#DejaVuSans-51\"/>\r\n       <use x=\"63.623047\" xlink:href=\"#DejaVuSans-46\"/>\r\n       <use x=\"95.410156\" xlink:href=\"#DejaVuSans-48\"/>\r\n      </g>\r\n     </g>\r\n    </g>\r\n    <g id=\"ytick_3\">\r\n     <g id=\"line2d_10\">\r\n      <g>\r\n       <use style=\"stroke:#000000;stroke-width:0.8;\" x=\"43.78125\" xlink:href=\"#mf16e30a5c6\" y=\"194.195639\"/>\r\n      </g>\r\n     </g>\r\n     <g id=\"text_11\">\r\n      <!-- 3.5 -->\r\n      <g transform=\"translate(20.878125 197.994858)scale(0.1 -0.1)\">\r\n       <use xlink:href=\"#DejaVuSans-51\"/>\r\n       <use x=\"63.623047\" xlink:href=\"#DejaVuSans-46\"/>\r\n       <use x=\"95.410156\" xlink:href=\"#DejaVuSans-53\"/>\r\n      </g>\r\n     </g>\r\n    </g>\r\n    <g id=\"ytick_4\">\r\n     <g id=\"line2d_11\">\r\n      <g>\r\n       <use style=\"stroke:#000000;stroke-width:0.8;\" x=\"43.78125\" xlink:href=\"#mf16e30a5c6\" y=\"169.492435\"/>\r\n      </g>\r\n     </g>\r\n     <g id=\"text_12\">\r\n      <!-- 4.0 -->\r\n      <g transform=\"translate(20.878125 173.291654)scale(0.1 -0.1)\">\r\n       <use xlink:href=\"#DejaVuSans-52\"/>\r\n       <use x=\"63.623047\" xlink:href=\"#DejaVuSans-46\"/>\r\n       <use x=\"95.410156\" xlink:href=\"#DejaVuSans-48\"/>\r\n      </g>\r\n     </g>\r\n    </g>\r\n    <g id=\"ytick_5\">\r\n     <g id=\"line2d_12\">\r\n      <g>\r\n       <use style=\"stroke:#000000;stroke-width:0.8;\" x=\"43.78125\" xlink:href=\"#mf16e30a5c6\" y=\"144.789231\"/>\r\n      </g>\r\n     </g>\r\n     <g id=\"text_13\">\r\n      <!-- 4.5 -->\r\n      <g transform=\"translate(20.878125 148.58845)scale(0.1 -0.1)\">\r\n       <use xlink:href=\"#DejaVuSans-52\"/>\r\n       <use x=\"63.623047\" xlink:href=\"#DejaVuSans-46\"/>\r\n       <use x=\"95.410156\" xlink:href=\"#DejaVuSans-53\"/>\r\n      </g>\r\n     </g>\r\n    </g>\r\n    <g id=\"ytick_6\">\r\n     <g id=\"line2d_13\">\r\n      <g>\r\n       <use style=\"stroke:#000000;stroke-width:0.8;\" x=\"43.78125\" xlink:href=\"#mf16e30a5c6\" y=\"120.086027\"/>\r\n      </g>\r\n     </g>\r\n     <g id=\"text_14\">\r\n      <!-- 5.0 -->\r\n      <g transform=\"translate(20.878125 123.885246)scale(0.1 -0.1)\">\r\n       <use xlink:href=\"#DejaVuSans-53\"/>\r\n       <use x=\"63.623047\" xlink:href=\"#DejaVuSans-46\"/>\r\n       <use x=\"95.410156\" xlink:href=\"#DejaVuSans-48\"/>\r\n      </g>\r\n     </g>\r\n    </g>\r\n    <g id=\"ytick_7\">\r\n     <g id=\"line2d_14\">\r\n      <g>\r\n       <use style=\"stroke:#000000;stroke-width:0.8;\" x=\"43.78125\" xlink:href=\"#mf16e30a5c6\" y=\"95.382824\"/>\r\n      </g>\r\n     </g>\r\n     <g id=\"text_15\">\r\n      <!-- 5.5 -->\r\n      <g transform=\"translate(20.878125 99.182042)scale(0.1 -0.1)\">\r\n       <use xlink:href=\"#DejaVuSans-53\"/>\r\n       <use x=\"63.623047\" xlink:href=\"#DejaVuSans-46\"/>\r\n       <use x=\"95.410156\" xlink:href=\"#DejaVuSans-53\"/>\r\n      </g>\r\n     </g>\r\n    </g>\r\n    <g id=\"ytick_8\">\r\n     <g id=\"line2d_15\">\r\n      <g>\r\n       <use style=\"stroke:#000000;stroke-width:0.8;\" x=\"43.78125\" xlink:href=\"#mf16e30a5c6\" y=\"70.67962\"/>\r\n      </g>\r\n     </g>\r\n     <g id=\"text_16\">\r\n      <!-- 6.0 -->\r\n      <g transform=\"translate(20.878125 74.478839)scale(0.1 -0.1)\">\r\n       <use xlink:href=\"#DejaVuSans-54\"/>\r\n       <use x=\"63.623047\" xlink:href=\"#DejaVuSans-46\"/>\r\n       <use x=\"95.410156\" xlink:href=\"#DejaVuSans-48\"/>\r\n      </g>\r\n     </g>\r\n    </g>\r\n    <g id=\"ytick_9\">\r\n     <g id=\"line2d_16\">\r\n      <g>\r\n       <use style=\"stroke:#000000;stroke-width:0.8;\" x=\"43.78125\" xlink:href=\"#mf16e30a5c6\" y=\"45.976416\"/>\r\n      </g>\r\n     </g>\r\n     <g id=\"text_17\">\r\n      <!-- 6.5 -->\r\n      <g transform=\"translate(20.878125 49.775635)scale(0.1 -0.1)\">\r\n       <use xlink:href=\"#DejaVuSans-54\"/>\r\n       <use x=\"63.623047\" xlink:href=\"#DejaVuSans-46\"/>\r\n       <use x=\"95.410156\" xlink:href=\"#DejaVuSans-53\"/>\r\n      </g>\r\n     </g>\r\n    </g>\r\n    <g id=\"text_18\">\r\n     <!-- TR -->\r\n     <g transform=\"translate(14.798438 151.248125)rotate(-90)scale(0.1 -0.1)\">\r\n      <defs>\r\n       <path d=\"M -0.296875 72.90625 \r\nL 61.375 72.90625 \r\nL 61.375 64.59375 \r\nL 35.5 64.59375 \r\nL 35.5 0 \r\nL 25.59375 0 \r\nL 25.59375 64.59375 \r\nL -0.296875 64.59375 \r\nz\r\n\" id=\"DejaVuSans-84\"/>\r\n       <path d=\"M 44.390625 34.1875 \r\nQ 47.5625 33.109375 50.5625 29.59375 \r\nQ 53.5625 26.078125 56.59375 19.921875 \r\nL 66.609375 0 \r\nL 56 0 \r\nL 46.6875 18.703125 \r\nQ 43.0625 26.03125 39.671875 28.421875 \r\nQ 36.28125 30.8125 30.421875 30.8125 \r\nL 19.671875 30.8125 \r\nL 19.671875 0 \r\nL 9.8125 0 \r\nL 9.8125 72.90625 \r\nL 32.078125 72.90625 \r\nQ 44.578125 72.90625 50.734375 67.671875 \r\nQ 56.890625 62.453125 56.890625 51.90625 \r\nQ 56.890625 45.015625 53.6875 40.46875 \r\nQ 50.484375 35.9375 44.390625 34.1875 \r\nz\r\nM 19.671875 64.796875 \r\nL 19.671875 38.921875 \r\nL 32.078125 38.921875 \r\nQ 39.203125 38.921875 42.84375 42.21875 \r\nQ 46.484375 45.515625 46.484375 51.90625 \r\nQ 46.484375 58.296875 42.84375 61.546875 \r\nQ 39.203125 64.796875 32.078125 64.796875 \r\nz\r\n\" id=\"DejaVuSans-82\"/>\r\n      </defs>\r\n      <use xlink:href=\"#DejaVuSans-84\"/>\r\n      <use x=\"61.083984\" xlink:href=\"#DejaVuSans-82\"/>\r\n     </g>\r\n    </g>\r\n   </g>\r\n   <g id=\"patch_3\">\r\n    <path d=\"M 43.78125 253.44 \r\nL 43.78125 36 \r\n\" style=\"fill:none;stroke:#000000;stroke-linecap:square;stroke-linejoin:miter;stroke-width:0.8;\"/>\r\n   </g>\r\n   <g id=\"patch_4\">\r\n    <path d=\"M 378.58125 253.44 \r\nL 378.58125 36 \r\n\" style=\"fill:none;stroke:#000000;stroke-linecap:square;stroke-linejoin:miter;stroke-width:0.8;\"/>\r\n   </g>\r\n   <g id=\"patch_5\">\r\n    <path d=\"M 43.78125 253.44 \r\nL 378.58125 253.44 \r\n\" style=\"fill:none;stroke:#000000;stroke-linecap:square;stroke-linejoin:miter;stroke-width:0.8;\"/>\r\n   </g>\r\n   <g id=\"patch_6\">\r\n    <path d=\"M 43.78125 36 \r\nL 378.58125 36 \r\n\" style=\"fill:none;stroke:#000000;stroke-linecap:square;stroke-linejoin:miter;stroke-width:0.8;\"/>\r\n   </g>\r\n   <g id=\"text_19\">\r\n    <!-- OMOPSO-GRNinf -->\r\n    <g transform=\"translate(160.9725 30)scale(0.12 -0.12)\">\r\n     <defs>\r\n      <path d=\"M 39.40625 66.21875 \r\nQ 28.65625 66.21875 22.328125 58.203125 \r\nQ 16.015625 50.203125 16.015625 36.375 \r\nQ 16.015625 22.609375 22.328125 14.59375 \r\nQ 28.65625 6.59375 39.40625 6.59375 \r\nQ 50.140625 6.59375 56.421875 14.59375 \r\nQ 62.703125 22.609375 62.703125 36.375 \r\nQ 62.703125 50.203125 56.421875 58.203125 \r\nQ 50.140625 66.21875 39.40625 66.21875 \r\nz\r\nM 39.40625 74.21875 \r\nQ 54.734375 74.21875 63.90625 63.9375 \r\nQ 73.09375 53.65625 73.09375 36.375 \r\nQ 73.09375 19.140625 63.90625 8.859375 \r\nQ 54.734375 -1.421875 39.40625 -1.421875 \r\nQ 24.03125 -1.421875 14.8125 8.828125 \r\nQ 5.609375 19.09375 5.609375 36.375 \r\nQ 5.609375 53.65625 14.8125 63.9375 \r\nQ 24.03125 74.21875 39.40625 74.21875 \r\nz\r\n\" id=\"DejaVuSans-79\"/>\r\n      <path d=\"M 19.671875 64.796875 \r\nL 19.671875 37.40625 \r\nL 32.078125 37.40625 \r\nQ 38.96875 37.40625 42.71875 40.96875 \r\nQ 46.484375 44.53125 46.484375 51.125 \r\nQ 46.484375 57.671875 42.71875 61.234375 \r\nQ 38.96875 64.796875 32.078125 64.796875 \r\nz\r\nM 9.8125 72.90625 \r\nL 32.078125 72.90625 \r\nQ 44.34375 72.90625 50.609375 67.359375 \r\nQ 56.890625 61.8125 56.890625 51.125 \r\nQ 56.890625 40.328125 50.609375 34.8125 \r\nQ 44.34375 29.296875 32.078125 29.296875 \r\nL 19.671875 29.296875 \r\nL 19.671875 0 \r\nL 9.8125 0 \r\nz\r\n\" id=\"DejaVuSans-80\"/>\r\n      <path d=\"M 4.890625 31.390625 \r\nL 31.203125 31.390625 \r\nL 31.203125 23.390625 \r\nL 4.890625 23.390625 \r\nz\r\n\" id=\"DejaVuSans-45\"/>\r\n      <path d=\"M 59.515625 10.40625 \r\nL 59.515625 29.984375 \r\nL 43.40625 29.984375 \r\nL 43.40625 38.09375 \r\nL 69.28125 38.09375 \r\nL 69.28125 6.78125 \r\nQ 63.578125 2.734375 56.6875 0.65625 \r\nQ 49.8125 -1.421875 42 -1.421875 \r\nQ 24.90625 -1.421875 15.25 8.5625 \r\nQ 5.609375 18.5625 5.609375 36.375 \r\nQ 5.609375 54.25 15.25 64.234375 \r\nQ 24.90625 74.21875 42 74.21875 \r\nQ 49.125 74.21875 55.546875 72.453125 \r\nQ 61.96875 70.703125 67.390625 67.28125 \r\nL 67.390625 56.78125 \r\nQ 61.921875 61.421875 55.765625 63.765625 \r\nQ 49.609375 66.109375 42.828125 66.109375 \r\nQ 29.4375 66.109375 22.71875 58.640625 \r\nQ 16.015625 51.171875 16.015625 36.375 \r\nQ 16.015625 21.625 22.71875 14.15625 \r\nQ 29.4375 6.6875 42.828125 6.6875 \r\nQ 48.046875 6.6875 52.140625 7.59375 \r\nQ 56.25 8.5 59.515625 10.40625 \r\nz\r\n\" id=\"DejaVuSans-71\"/>\r\n      <path d=\"M 9.8125 72.90625 \r\nL 23.09375 72.90625 \r\nL 55.421875 11.921875 \r\nL 55.421875 72.90625 \r\nL 64.984375 72.90625 \r\nL 64.984375 0 \r\nL 51.703125 0 \r\nL 19.390625 60.984375 \r\nL 19.390625 0 \r\nL 9.8125 0 \r\nz\r\n\" id=\"DejaVuSans-78\"/>\r\n      <path d=\"M 9.421875 54.6875 \r\nL 18.40625 54.6875 \r\nL 18.40625 0 \r\nL 9.421875 0 \r\nz\r\nM 9.421875 75.984375 \r\nL 18.40625 75.984375 \r\nL 18.40625 64.59375 \r\nL 9.421875 64.59375 \r\nz\r\n\" id=\"DejaVuSans-105\"/>\r\n      <path d=\"M 54.890625 33.015625 \r\nL 54.890625 0 \r\nL 45.90625 0 \r\nL 45.90625 32.71875 \r\nQ 45.90625 40.484375 42.875 44.328125 \r\nQ 39.84375 48.1875 33.796875 48.1875 \r\nQ 26.515625 48.1875 22.3125 43.546875 \r\nQ 18.109375 38.921875 18.109375 30.90625 \r\nL 18.109375 0 \r\nL 9.078125 0 \r\nL 9.078125 54.6875 \r\nL 18.109375 54.6875 \r\nL 18.109375 46.1875 \r\nQ 21.34375 51.125 25.703125 53.5625 \r\nQ 30.078125 56 35.796875 56 \r\nQ 45.21875 56 50.046875 50.171875 \r\nQ 54.890625 44.34375 54.890625 33.015625 \r\nz\r\n\" id=\"DejaVuSans-110\"/>\r\n      <path d=\"M 37.109375 75.984375 \r\nL 37.109375 68.5 \r\nL 28.515625 68.5 \r\nQ 23.6875 68.5 21.796875 66.546875 \r\nQ 19.921875 64.59375 19.921875 59.515625 \r\nL 19.921875 54.6875 \r\nL 34.71875 54.6875 \r\nL 34.71875 47.703125 \r\nL 19.921875 47.703125 \r\nL 19.921875 0 \r\nL 10.890625 0 \r\nL 10.890625 47.703125 \r\nL 2.296875 47.703125 \r\nL 2.296875 54.6875 \r\nL 10.890625 54.6875 \r\nL 10.890625 58.5 \r\nQ 10.890625 67.625 15.140625 71.796875 \r\nQ 19.390625 75.984375 28.609375 75.984375 \r\nz\r\n\" id=\"DejaVuSans-102\"/>\r\n     </defs>\r\n     <use xlink:href=\"#DejaVuSans-79\"/>\r\n     <use x=\"78.710938\" xlink:href=\"#DejaVuSans-77\"/>\r\n     <use x=\"164.990234\" xlink:href=\"#DejaVuSans-79\"/>\r\n     <use x=\"243.701172\" xlink:href=\"#DejaVuSans-80\"/>\r\n     <use x=\"304.003906\" xlink:href=\"#DejaVuSans-83\"/>\r\n     <use x=\"367.480469\" xlink:href=\"#DejaVuSans-79\"/>\r\n     <use x=\"448.941406\" xlink:href=\"#DejaVuSans-45\"/>\r\n     <use x=\"488.650391\" xlink:href=\"#DejaVuSans-71\"/>\r\n     <use x=\"566.140625\" xlink:href=\"#DejaVuSans-82\"/>\r\n     <use x=\"635.623047\" xlink:href=\"#DejaVuSans-78\"/>\r\n     <use x=\"710.427734\" xlink:href=\"#DejaVuSans-105\"/>\r\n     <use x=\"738.210938\" xlink:href=\"#DejaVuSans-110\"/>\r\n     <use x=\"801.589844\" xlink:href=\"#DejaVuSans-102\"/>\r\n    </g>\r\n   </g>\r\n  </g>\r\n  <g id=\"text_20\">\r\n   <!-- Pareto front approximation -->\r\n   <g transform=\"translate(98.45125 19.3575)scale(0.16 -0.16)\">\r\n    <defs>\r\n     <path d=\"M 34.28125 27.484375 \r\nQ 23.390625 27.484375 19.1875 25 \r\nQ 14.984375 22.515625 14.984375 16.5 \r\nQ 14.984375 11.71875 18.140625 8.90625 \r\nQ 21.296875 6.109375 26.703125 6.109375 \r\nQ 34.1875 6.109375 38.703125 11.40625 \r\nQ 43.21875 16.703125 43.21875 25.484375 \r\nL 43.21875 27.484375 \r\nz\r\nM 52.203125 31.203125 \r\nL 52.203125 0 \r\nL 43.21875 0 \r\nL 43.21875 8.296875 \r\nQ 40.140625 3.328125 35.546875 0.953125 \r\nQ 30.953125 -1.421875 24.3125 -1.421875 \r\nQ 15.921875 -1.421875 10.953125 3.296875 \r\nQ 6 8.015625 6 15.921875 \r\nQ 6 25.140625 12.171875 29.828125 \r\nQ 18.359375 34.515625 30.609375 34.515625 \r\nL 43.21875 34.515625 \r\nL 43.21875 35.40625 \r\nQ 43.21875 41.609375 39.140625 45 \r\nQ 35.0625 48.390625 27.6875 48.390625 \r\nQ 23 48.390625 18.546875 47.265625 \r\nQ 14.109375 46.140625 10.015625 43.890625 \r\nL 10.015625 52.203125 \r\nQ 14.9375 54.109375 19.578125 55.046875 \r\nQ 24.21875 56 28.609375 56 \r\nQ 40.484375 56 46.34375 49.84375 \r\nQ 52.203125 43.703125 52.203125 31.203125 \r\nz\r\n\" id=\"DejaVuSans-97\"/>\r\n     <path d=\"M 41.109375 46.296875 \r\nQ 39.59375 47.171875 37.8125 47.578125 \r\nQ 36.03125 48 33.890625 48 \r\nQ 26.265625 48 22.1875 43.046875 \r\nQ 18.109375 38.09375 18.109375 28.8125 \r\nL 18.109375 0 \r\nL 9.078125 0 \r\nL 9.078125 54.6875 \r\nL 18.109375 54.6875 \r\nL 18.109375 46.1875 \r\nQ 20.953125 51.171875 25.484375 53.578125 \r\nQ 30.03125 56 36.53125 56 \r\nQ 37.453125 56 38.578125 55.875 \r\nQ 39.703125 55.765625 41.0625 55.515625 \r\nz\r\n\" id=\"DejaVuSans-114\"/>\r\n     <path d=\"M 56.203125 29.59375 \r\nL 56.203125 25.203125 \r\nL 14.890625 25.203125 \r\nQ 15.484375 15.921875 20.484375 11.0625 \r\nQ 25.484375 6.203125 34.421875 6.203125 \r\nQ 39.59375 6.203125 44.453125 7.46875 \r\nQ 49.3125 8.734375 54.109375 11.28125 \r\nL 54.109375 2.78125 \r\nQ 49.265625 0.734375 44.1875 -0.34375 \r\nQ 39.109375 -1.421875 33.890625 -1.421875 \r\nQ 20.796875 -1.421875 13.15625 6.1875 \r\nQ 5.515625 13.8125 5.515625 26.8125 \r\nQ 5.515625 40.234375 12.765625 48.109375 \r\nQ 20.015625 56 32.328125 56 \r\nQ 43.359375 56 49.78125 48.890625 \r\nQ 56.203125 41.796875 56.203125 29.59375 \r\nz\r\nM 47.21875 32.234375 \r\nQ 47.125 39.59375 43.09375 43.984375 \r\nQ 39.0625 48.390625 32.421875 48.390625 \r\nQ 24.90625 48.390625 20.390625 44.140625 \r\nQ 15.875 39.890625 15.1875 32.171875 \r\nz\r\n\" id=\"DejaVuSans-101\"/>\r\n     <path d=\"M 18.3125 70.21875 \r\nL 18.3125 54.6875 \r\nL 36.8125 54.6875 \r\nL 36.8125 47.703125 \r\nL 18.3125 47.703125 \r\nL 18.3125 18.015625 \r\nQ 18.3125 11.328125 20.140625 9.421875 \r\nQ 21.96875 7.515625 27.59375 7.515625 \r\nL 36.8125 7.515625 \r\nL 36.8125 0 \r\nL 27.59375 0 \r\nQ 17.1875 0 13.234375 3.875 \r\nQ 9.28125 7.765625 9.28125 18.015625 \r\nL 9.28125 47.703125 \r\nL 2.6875 47.703125 \r\nL 2.6875 54.6875 \r\nL 9.28125 54.6875 \r\nL 9.28125 70.21875 \r\nz\r\n\" id=\"DejaVuSans-116\"/>\r\n     <path d=\"M 30.609375 48.390625 \r\nQ 23.390625 48.390625 19.1875 42.75 \r\nQ 14.984375 37.109375 14.984375 27.296875 \r\nQ 14.984375 17.484375 19.15625 11.84375 \r\nQ 23.34375 6.203125 30.609375 6.203125 \r\nQ 37.796875 6.203125 41.984375 11.859375 \r\nQ 46.1875 17.53125 46.1875 27.296875 \r\nQ 46.1875 37.015625 41.984375 42.703125 \r\nQ 37.796875 48.390625 30.609375 48.390625 \r\nz\r\nM 30.609375 56 \r\nQ 42.328125 56 49.015625 48.375 \r\nQ 55.71875 40.765625 55.71875 27.296875 \r\nQ 55.71875 13.875 49.015625 6.21875 \r\nQ 42.328125 -1.421875 30.609375 -1.421875 \r\nQ 18.84375 -1.421875 12.171875 6.21875 \r\nQ 5.515625 13.875 5.515625 27.296875 \r\nQ 5.515625 40.765625 12.171875 48.375 \r\nQ 18.84375 56 30.609375 56 \r\nz\r\n\" id=\"DejaVuSans-111\"/>\r\n     <path id=\"DejaVuSans-32\"/>\r\n     <path d=\"M 18.109375 8.203125 \r\nL 18.109375 -20.796875 \r\nL 9.078125 -20.796875 \r\nL 9.078125 54.6875 \r\nL 18.109375 54.6875 \r\nL 18.109375 46.390625 \r\nQ 20.953125 51.265625 25.265625 53.625 \r\nQ 29.59375 56 35.59375 56 \r\nQ 45.5625 56 51.78125 48.09375 \r\nQ 58.015625 40.1875 58.015625 27.296875 \r\nQ 58.015625 14.40625 51.78125 6.484375 \r\nQ 45.5625 -1.421875 35.59375 -1.421875 \r\nQ 29.59375 -1.421875 25.265625 0.953125 \r\nQ 20.953125 3.328125 18.109375 8.203125 \r\nz\r\nM 48.6875 27.296875 \r\nQ 48.6875 37.203125 44.609375 42.84375 \r\nQ 40.53125 48.484375 33.40625 48.484375 \r\nQ 26.265625 48.484375 22.1875 42.84375 \r\nQ 18.109375 37.203125 18.109375 27.296875 \r\nQ 18.109375 17.390625 22.1875 11.75 \r\nQ 26.265625 6.109375 33.40625 6.109375 \r\nQ 40.53125 6.109375 44.609375 11.75 \r\nQ 48.6875 17.390625 48.6875 27.296875 \r\nz\r\n\" id=\"DejaVuSans-112\"/>\r\n     <path d=\"M 54.890625 54.6875 \r\nL 35.109375 28.078125 \r\nL 55.90625 0 \r\nL 45.3125 0 \r\nL 29.390625 21.484375 \r\nL 13.484375 0 \r\nL 2.875 0 \r\nL 24.125 28.609375 \r\nL 4.6875 54.6875 \r\nL 15.28125 54.6875 \r\nL 29.78125 35.203125 \r\nL 44.28125 54.6875 \r\nz\r\n\" id=\"DejaVuSans-120\"/>\r\n     <path d=\"M 52 44.1875 \r\nQ 55.375 50.25 60.0625 53.125 \r\nQ 64.75 56 71.09375 56 \r\nQ 79.640625 56 84.28125 50.015625 \r\nQ 88.921875 44.046875 88.921875 33.015625 \r\nL 88.921875 0 \r\nL 79.890625 0 \r\nL 79.890625 32.71875 \r\nQ 79.890625 40.578125 77.09375 44.375 \r\nQ 74.3125 48.1875 68.609375 48.1875 \r\nQ 61.625 48.1875 57.5625 43.546875 \r\nQ 53.515625 38.921875 53.515625 30.90625 \r\nL 53.515625 0 \r\nL 44.484375 0 \r\nL 44.484375 32.71875 \r\nQ 44.484375 40.625 41.703125 44.40625 \r\nQ 38.921875 48.1875 33.109375 48.1875 \r\nQ 26.21875 48.1875 22.15625 43.53125 \r\nQ 18.109375 38.875 18.109375 30.90625 \r\nL 18.109375 0 \r\nL 9.078125 0 \r\nL 9.078125 54.6875 \r\nL 18.109375 54.6875 \r\nL 18.109375 46.1875 \r\nQ 21.1875 51.21875 25.484375 53.609375 \r\nQ 29.78125 56 35.6875 56 \r\nQ 41.65625 56 45.828125 52.96875 \r\nQ 50 49.953125 52 44.1875 \r\nz\r\n\" id=\"DejaVuSans-109\"/>\r\n    </defs>\r\n    <use xlink:href=\"#DejaVuSans-80\"/>\r\n    <use x=\"55.802734\" xlink:href=\"#DejaVuSans-97\"/>\r\n    <use x=\"117.082031\" xlink:href=\"#DejaVuSans-114\"/>\r\n    <use x=\"155.945312\" xlink:href=\"#DejaVuSans-101\"/>\r\n    <use x=\"217.46875\" xlink:href=\"#DejaVuSans-116\"/>\r\n    <use x=\"256.677734\" xlink:href=\"#DejaVuSans-111\"/>\r\n    <use x=\"317.859375\" xlink:href=\"#DejaVuSans-32\"/>\r\n    <use x=\"349.646484\" xlink:href=\"#DejaVuSans-102\"/>\r\n    <use x=\"384.851562\" xlink:href=\"#DejaVuSans-114\"/>\r\n    <use x=\"423.714844\" xlink:href=\"#DejaVuSans-111\"/>\r\n    <use x=\"484.896484\" xlink:href=\"#DejaVuSans-110\"/>\r\n    <use x=\"548.275391\" xlink:href=\"#DejaVuSans-116\"/>\r\n    <use x=\"587.484375\" xlink:href=\"#DejaVuSans-32\"/>\r\n    <use x=\"619.271484\" xlink:href=\"#DejaVuSans-97\"/>\r\n    <use x=\"680.550781\" xlink:href=\"#DejaVuSans-112\"/>\r\n    <use x=\"744.027344\" xlink:href=\"#DejaVuSans-112\"/>\r\n    <use x=\"807.503906\" xlink:href=\"#DejaVuSans-114\"/>\r\n    <use x=\"846.367188\" xlink:href=\"#DejaVuSans-111\"/>\r\n    <use x=\"904.423828\" xlink:href=\"#DejaVuSans-120\"/>\r\n    <use x=\"963.603516\" xlink:href=\"#DejaVuSans-105\"/>\r\n    <use x=\"991.386719\" xlink:href=\"#DejaVuSans-109\"/>\r\n    <use x=\"1088.798828\" xlink:href=\"#DejaVuSans-97\"/>\r\n    <use x=\"1150.078125\" xlink:href=\"#DejaVuSans-116\"/>\r\n    <use x=\"1189.287109\" xlink:href=\"#DejaVuSans-105\"/>\r\n    <use x=\"1217.070312\" xlink:href=\"#DejaVuSans-111\"/>\r\n    <use x=\"1278.251953\" xlink:href=\"#DejaVuSans-110\"/>\r\n   </g>\r\n  </g>\r\n </g>\r\n <defs>\r\n  <clipPath id=\"p6631221418\">\r\n   <rect height=\"217.44\" width=\"334.8\" x=\"43.78125\" y=\"36\"/>\r\n  </clipPath>\r\n </defs>\r\n</svg>\r\n",
      "image/png": "[encoded data removed]"
     },
     "metadata": {
      "needs_background": "light"
     }
    },
    {
     "output_type": "stream",
     "name": "stdout",
     "text": [
      "++++++\nObjective Values\n[3.4934346214936465, 4.1349887247731285]\n[126.75623132311088, 2.50092463762508]\n[24.015872723597152, 3.0584394060104887]\n[0.2082372773115789, 5.747139421351102]\n[0.2699764112015613, 4.560004418224587]\n[3.766016374622388, 4.0378236270733385]\n[0.20066581522698762, 6.501877885515528]\n[67.25221191592345, 2.9172108898236777]\n[9.957548054121688, 3.635144903529268]\n[5.487403066131851, 3.782845320197894]\n[5.56750009457137, 3.6741115861906612]\n[0.21551020291475614, 5.320894469750226]\n[10.452404599128238, 3.3411250777824777]\n[14.446904616095662, 3.1639704564320104]\n[0.722978816394328, 4.149780270250796]\n[0.22405964697409864, 4.681775774488174]\n[0.29375730448013615, 4.457650613655435]\n[0.44040404893639307, 4.188485482147426]\n[50.54242887475597, 2.92267407656795]\n[0.3522895415854955, 4.438073542307881]\n"
     ]
    }
   ],
   "source": [
    "HS_front = get_non_dominated_solutions(HS_solutions)\n",
    "\n",
    "plot_front = Plot(title='Pareto front approximation', axis_labels=['MSE', 'TR'])\n",
    "plot_front.plot(HS_front, label='OMOPSO-GRNinf')\n",
    "\n",
    "#print fitness values of non-dominated solutions in the pareto front \n",
    "print(\"++++++\")\n",
    "print(\"Objective Values\")\n",
    "\n",
    "for sol in HS_front:\n",
    "    print(sol.objectives)"
   ]
  },
  {
   "source": [
    "## Calculating Average Performance over all solutions\n",
    "\n",
    "Using confusion matrix metrics"
   ],
   "cell_type": "markdown",
   "metadata": {}
  },
  {
   "cell_type": "code",
   "execution_count": 80,
   "metadata": {},
   "outputs": [
    {
     "output_type": "execute_result",
     "data": {
      "text/plain": [
       "{'TP': 1.85,\n",
       " 'FP': 22.35,\n",
       " 'TN': 32.65,\n",
       " 'FN': 7.15,\n",
       " 'TPR': 0.20555555555555557,\n",
       " 'FPR': 0.40636363636363637,\n",
       " 'TNR': 0.5936363636363635,\n",
       " 'PPV': 0.07654293653206695,\n",
       " 'ACC': 0.5390625,\n",
       " 'Fscore': 0.11135598945134051,\n",
       " 'Predicted Edges': 24.2}"
      ]
     },
     "metadata": {},
     "execution_count": 80
    }
   ],
   "source": [
    "calculateAverageResults(HS_front, filepath, filenameActual, prob = \"HS\")"
   ]
  },
  {
   "cell_type": "code",
   "execution_count": null,
   "metadata": {},
   "outputs": [],
   "source": []
  }
 ]
}